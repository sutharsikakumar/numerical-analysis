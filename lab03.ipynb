{
 "cells": [
  {
   "cell_type": "markdown",
   "id": "cf8c6e94-1fc2-42e3-8021-69460fff12df",
   "metadata": {},
   "source": [
    "# Lab 3: Evaluating Polynomials and Bisection Method\n",
    "\n",
    "Welcome to Lab 03! Throughout the course you will complete a lab assignments like this one. You can't learn technical subjects without hands-on practice, so labs are an important part of the course.\n",
    "\n",
    "Collaborating on labs is more than okay -- it's encouraged. You should rarely remain stuck for more than a few minutes on questions in labs, so ask a neighbor or an instructor for help. Explaining things is beneficial, too -- the best way to solidify your knowledge of a subject is to explain it. You should **not** just copy/paste someone else's code, but rather work together to gain understanding of the task you need to complete. \n",
    "\n",
    "In today's lab, you'll learn:\n",
    "\n",
    "- how to write functions in Python.\n",
    "\n",
    "- a \"clever\" way to evaluate polynomials.\n",
    "\n",
    "- how to implement the bisection method for finding roots.\n",
    "\n",
    "To receive credit for a lab, answer all questions correctly and submit before the deadline.\n",
    "\n",
    "**Due Date:** Tuesday, February 26, 2023 at 4:59 pm\n",
    "\n",
    "**Collaboration Policy:** Labs are a collaborative activity. While you may talk with others about the labs, we ask that you **write your solutions individually**. If you do discuss the assignments with others **please include their names below**.\n",
    "\n",
    "**Collaborators:** \n",
    "\n",
    "List collaborators here."
   ]
  },
  {
   "cell_type": "markdown",
   "id": "817076d6-dac1-4f50-9919-0da0f8be7791",
   "metadata": {
    "tags": []
   },
   "source": [
    "## 0. Python Functions\n",
    "\n",
    "Let's write a very simple function that converts a proportion to a percentage by multiplying it by 100.  For example, the value of `to_percentage(.5)` should be the number 50 (no percent sign).\n",
    "\n",
    "A function definition has a few parts.\n",
    "\n",
    "##### `def`\n",
    "It always starts with `def` (short for **def**ine):\n",
    "\n",
    "    def\n",
    "\n",
    "##### Name\n",
    "Next comes the name of the function.  Like other names we've defined, it can't start with a number or contain spaces. Let's call our function `to_percentage`:\n",
    "    \n",
    "    def to_percentage\n",
    "\n",
    "##### Signature\n",
    "Next comes something called the *signature* of the function.  This tells Python how many arguments your function should have, and what names you'll use to refer to those arguments in the function's code.  A function can have any number of arguments (including 0!). \n",
    "\n",
    "`to_percentage` should take one argument, and we'll call that argument `proportion` since it should be a proportion.\n",
    "\n",
    "    def to_percentage(proportion)\n",
    "    \n",
    "If we want our function to take more than one argument, we add a comma between each argument name. Note that if we had zero arguments, we'd still place the parentheses () after than name. \n",
    "\n",
    "We put a colon after the signature to tell Python it's over. If you're getting a syntax error after defining a function, check to make sure you remembered the colon!\n",
    "\n",
    "    def to_percentage(proportion):\n",
    "\n",
    "##### Documentation\n",
    "Functions can do complicated things, so you should write an explanation of what your function does.  For small functions, this is less important, but it's a good habit to learn from the start.  Conventionally, Python functions are documented by writing an **indented** triple-quoted string:\n",
    "\n",
    "    def to_percentage(proportion):\n",
    "        \"\"\"Converts a proportion to a percentage.\"\"\"\n",
    "    \n",
    "    \n",
    "##### Body\n",
    "Now we start writing code that runs when the function is called.  This is called the *body* of the function and every line **must be indented with a tab**.  Any lines that are *not* indented and left-aligned with the def statement is considered outside the function. \n",
    "\n",
    "Some notes about the body of the function:\n",
    "- We can write code that we would write anywhere else.  \n",
    "- We use the arguments defined in the function signature. We can do this because we assume that when we call the function, values are already assigned to those arguments.\n",
    "- We generally avoid referencing variables defined *outside* the function. If you would like to reference variables outside of the function, pass them through as arguments!\n",
    "\n",
    "\n",
    "Now, let's give a name to the number we multiply a proportion by to get a percentage:\n",
    "\n",
    "    def to_percentage(proportion):\n",
    "        \"\"\"Converts a proportion to a percentage.\"\"\"\n",
    "        factor = 100\n",
    "\n",
    "##### `return`\n",
    "The special instruction `return` is part of the function's body and tells Python to make the value of the function call equal to whatever comes right after `return`.  We want the value of `to_percentage(.5)` to be the proportion .5 times the factor 100, so we write:\n",
    "\n",
    "    def to_percentage(proportion):\n",
    "        \"\"\"Converts a proportion to a percentage.\"\"\"\n",
    "        factor = 100\n",
    "        return proportion * factor\n",
    "        \n",
    "`return` only makes sense in the context of a function, and **can never be used outside of a function**. `return` is always the last line of the function because Python stops executing the body of a function once it hits a `return` statement.\n",
    "\n",
    "**Note:**  `return` inside a function tells Python what value the function evaluates to. However, there are other functions, like `print`, that have no `return` value. For example, `print` simply prints a certain value out to the console. Be aware that `return` and `print` are **very** different. "
   ]
  },
  {
   "cell_type": "markdown",
   "id": "bb09290c-67a7-47fa-9282-0104d22afff3",
   "metadata": {},
   "source": [
    "**Question 1.** Define `to_percentage` in the cell below.  Call your function to convert the proportion $0.2$ to a percentage.  Name that percentage `twenty_percent`.\n"
   ]
  },
  {
   "cell_type": "code",
   "execution_count": 10,
   "id": "7faeba3f-9f0a-4bfe-b6db-70ed5a8fcd22",
   "metadata": {
    "tags": []
   },
   "outputs": [
    {
     "data": {
      "text/plain": [
       "20.0"
      ]
     },
     "execution_count": 10,
     "metadata": {},
     "output_type": "execute_result"
    }
   ],
   "source": [
    "def to_percentage(proportion):\n",
    "    \"\"\"converts a proportion to a percentage.\"\"\"\n",
    "    percentage = proportion * 100\n",
    "    return percentage\n",
    "twenty_percent = to_percentage(0.2)\n",
    "twenty_percent"
   ]
  },
  {
   "cell_type": "markdown",
   "id": "7f15f80e-82dc-40c7-9ab9-66c25cc4e2fb",
   "metadata": {},
   "source": [
    "Like you've done with built-in functions in previous labs (`max`, `abs`, etc.), you can pass in named values as arguments to your function."
   ]
  },
  {
   "cell_type": "markdown",
   "id": "bc908077-3310-4850-838f-dbc299b3b993",
   "metadata": {},
   "source": [
    "## 1. Horner's Method\n",
    "\n",
    "Suppose you want to evaluate the function $p(x)=5x^4-11x^3+6x^2+7x-3$. Let's represent that polynomial as a list of coefficients: (Let's also go ahead and import math and numpy while we're at it, as they could be useful later...)\n"
   ]
  },
  {
   "cell_type": "code",
   "execution_count": 11,
   "id": "5bc5427d-0c4b-401e-a3e8-5c59ab79d7ff",
   "metadata": {},
   "outputs": [
    {
     "name": "stdout",
     "output_type": "stream",
     "text": [
      "[5, -11, 6, 7, -3]\n"
     ]
    }
   ],
   "source": [
    "import math\n",
    "import numpy as np\n",
    "\n",
    "poly_coeffs=[5,-11,6,7,-3]\n",
    "print( poly_coeffs )"
   ]
  },
  {
   "cell_type": "markdown",
   "id": "59eb1e0e-19f2-4cd3-9e4b-28455e9f9576",
   "metadata": {},
   "source": [
    "Then one way to evaluate the polynomial at a given $x$ value is using a for loop: (in this example we let $x=2$)\n"
   ]
  },
  {
   "cell_type": "code",
   "execution_count": 12,
   "id": "8e328984-8521-4e5e-a70a-39884cec821e",
   "metadata": {},
   "outputs": [
    {
     "name": "stdout",
     "output_type": "stream",
     "text": [
      "27\n"
     ]
    }
   ],
   "source": [
    "def poly_eval(coeffs,x):\n",
    "    \"\"\"evaluates a polynomial at a given x-coord by multiplying coefficients by powers of x.\n",
    "    coeffs is a list of coefficients such that the \"leading\" coeff is the first item in the list\n",
    "    (thus the last item is the \"constant\" term)\"\"\"\n",
    "    degree = len(coeffs)-1\n",
    "    poly_val = 0\n",
    "    for i in range(0,len(coeffs)):\n",
    "        poly_val = poly_val + coeffs[i]*x**(degree-i)\n",
    "    return poly_val\n",
    "print( poly_eval([5,-11,6,7,-3],2) )\n"
   ]
  },
  {
   "cell_type": "markdown",
   "id": "c2284b25-df95-45fd-8254-ca5b4e3eb9fc",
   "metadata": {},
   "source": [
    "Be sure you understand how the code above works before proceeding - ask me or a neighbor if it doesn't make sense!\n",
    "\n",
    "Another way we could evaluate a polynomial is to use a \"clever\" factored form. Observe:\n",
    "$$p(x)=5x^4-11x^3+6x^2+7x-3 = (((5x-11)x+6)x+7)x-3 $$\n",
    "\n",
    "Then evaluating the polynomial can be done iterating as follows:\n",
    "- Start with the leading coefficient (in this example, 5).\n",
    "- Multiply by $x$ then add the next coefficient (e.g. -11).\n",
    "- Multiply by $x$ then add the next coefficient (e.g. 6).\n",
    "- Repeat this process until you've multiplied by $x$ and added the last coefficient (e.g. -3)\n",
    "\n",
    "Thus rather than raising $x$ to larger and larger powers, we only need to do a \"multiply-then-add\" for each iteration.\n",
    "\n",
    "This method is called \"Horner's Method.\"\n",
    "\n",
    "**Question 2.** Write a function that uses Horner's Method to evaluate the same polynomial from above. Just like the `poly_eval` function, its input should be a list of coefficients and an $x$ value at which to evaluate the polynomial.\n"
   ]
  },
  {
   "cell_type": "code",
   "execution_count": 13,
   "id": "90b362d8-720d-4220-ab69-8208bc10fead",
   "metadata": {},
   "outputs": [
    {
     "name": "stdout",
     "output_type": "stream",
     "text": [
      "27\n"
     ]
    }
   ],
   "source": [
    "def horner(coeffs,x):\n",
    "    horner = coeffs[0]\n",
    "    for i in range(0,len(coeffs)-1):\n",
    "        horner = horner *x+coeffs[i+1] \n",
    "    return horner\n",
    "    \n",
    "print( horner([5,-11,6,7,-3],2))"
   ]
  },
  {
   "cell_type": "markdown",
   "id": "efafdaee-28ed-4ab8-a61d-42ac088a26cc",
   "metadata": {},
   "source": [
    "This might not seem like a big difference, but it can be when the polynomial is large degree and has many non-zero terms. It can also make a big difference even if we're just evaluating the same polynomial over and over again, e.g. when graphing.\n",
    "\n",
    "Run each of the cells below to see the difference in execution time when evaluating that same polynomial at a million different $x$-values."
   ]
  },
  {
   "cell_type": "code",
   "execution_count": 14,
   "id": "ca17f0e4-02bb-4a5a-b3b4-69667b8a85c1",
   "metadata": {},
   "outputs": [
    {
     "name": "stdout",
     "output_type": "stream",
     "text": [
      "CPU times: user 65.2 ms, sys: 8.24 ms, total: 73.5 ms\n",
      "Wall time: 94.8 ms\n"
     ]
    }
   ],
   "source": [
    "%%time\n",
    "xvals = np.linspace(-10,10,1000001)\n",
    "yvals = poly_eval([5,-11,6,7,-3],xvals)"
   ]
  },
  {
   "cell_type": "code",
   "execution_count": 15,
   "id": "3a032bf3-1c47-46cf-acda-51aa40d83c0f",
   "metadata": {},
   "outputs": [
    {
     "name": "stdout",
     "output_type": "stream",
     "text": [
      "CPU times: user 9.98 ms, sys: 6.78 ms, total: 16.8 ms\n",
      "Wall time: 14.6 ms\n"
     ]
    }
   ],
   "source": [
    "%%time\n",
    "xvals = np.linspace(-10,10,1000001)\n",
    "yvals = horner([5,-11,6,7,-3],xvals)"
   ]
  },
  {
   "cell_type": "markdown",
   "id": "e3cb37fa-be37-4435-bc0d-ad15cfb7ff44",
   "metadata": {},
   "source": [
    "## 2. Introduction to Numerical Root Finding\n",
    "\n",
    "The topic of numerical root finding really boils down to approximating the solutions to equations without using all of the by-hand techniques that you've learned up to this point in high school. The down side to everything that we're about to do is that our answers are only ever going to be approximations. Mathematicians love (and I mean love) exact values. Think about values like $\\pi$, $e$, $\\sqrt 2$ and all those values for sine and cosine you may have been forced to memorize from special right triangles and the unit circle. \n",
    "\n",
    "There are two main reasons we would want to do numerical algebra: \n",
    "\n",
    "1. Algebra by hand can be extremely challenging, time consuming, and error prone.\n",
    "\n",
    "2. The vast majority of equations do not lend themselves to by-hand solutions. \n",
    "\n",
    "\n",
    "### The Quadratic Formula\n",
    "\n",
    "We will start with the quadratic formula \n",
    "\n",
    "$$x=\\frac{-b \\pm \\sqrt{b^2-4ac}}{2a}$$\n",
    "\n",
    "The quadratic formula can be used to find the roots (i.e. zeros) of a quadratic equation of the form $ax^2+bx+c=0$ where $a$, $b$, and $c$ are real numbers and $a \\ne 0$. If we want to write a function that returns the real roots of a quadratic equation we need to consider the following cases:\n",
    "\n",
    "- If $b^2 < 4ac$, then roots are complex (not real). For example, roots of $x^2 + x + 1$ are $\\frac{-1 + i\\sqrt{3}}{2}$ and $\\frac{-0.5 - i\\sqrt{3}}{2}$.\n",
    "\n",
    "- If $b^2=4ac$, then the roots are real and equal to each other. For example, root of $x^2-4x+4$ is $2$.\n",
    "\n",
    "- If $b^2 > 4ac$, then roots are real and different. For example, roots of $x^2-4x-5$ are $5$ and $-1$.\n",
    "\n"
   ]
  },
  {
   "cell_type": "markdown",
   "id": "e4109034-4bc4-4c48-b126-c888e8ea3b86",
   "metadata": {},
   "source": [
    "**Question 3.** Write a function to find the real roots of a quadratic equation. \n",
    "\n",
    "**Note:** You can assume that the values for $a$, $b$, and $c$ are real numbers. But you need consider the following cases:\n",
    "\n",
    "- If $b^2 < 4ac$, then print the statement \"No real roots.\".\n",
    "\n",
    "- If $b^2=4ac$, then print the statement \"One real root.\" and return the value of the root.\n",
    "\n",
    "- If $b^2 > 4ac$, then print the statement \"Two distinct real roots\" and return both roots."
   ]
  },
  {
   "cell_type": "code",
   "execution_count": 16,
   "id": "c10630b7-f449-4261-9196-2592e55ac646",
   "metadata": {
    "tags": []
   },
   "outputs": [
    {
     "name": "stdout",
     "output_type": "stream",
     "text": [
      "One real root.\n"
     ]
    }
   ],
   "source": [
    "def quadratic_roots(a,b,c): \n",
    "    quadratic_roots = [1,10,25]\n",
    "    if (b**2 < 4*a*c):\n",
    "        return(\"No real roots\")\n",
    "    elif (b**2 == 4*a*c):\n",
    "        return(\"One real root.\")\n",
    "    else:\n",
    "        return (\"Two distinct real roots.\")\n",
    "\n",
    "print(quadratic_roots(1,10,25))\n",
    "# you should try a few example in addition to the one in the above line, to make sure your code works correctly!"
   ]
  },
  {
   "cell_type": "markdown",
   "id": "7c1e7437-29ad-4cb1-814f-c1c789b8ce21",
   "metadata": {},
   "source": [
    "The quadratic formula is sufficient for quadratic equations, but what if our polynomial is not degree two. So far in class we've learned about the Bisection method. (And soon we'll learn 2 more methods.)\n"
   ]
  },
  {
   "cell_type": "markdown",
   "id": "ab8a761e-5d81-4577-b513-aba73c1348f7",
   "metadata": {},
   "source": [
    "## 3. Bisection Method\n",
    "\n",
    "Previously in this lab we wrote a function to find the real roots of a quadratic equation. Now let's do the same thing for the Bisection method. From your notes in class you should have an idea of how the Bisection method works. Review your notes if you need to refresh your memory.\n",
    "\n",
    "For our function we will use $a$ and $b$ for inputs for an interval in which $f(a)$ and $f(b)$ have opposite signs.\n",
    "\n",
    "**Note:** You will need to define a function $f(x)$ that returns the values of $f(a)$ and $f(b)$. For example,\n",
    "\n",
    "```\n",
    "def practice_function(x):\n",
    "    return (the expression for your function should go here)\n",
    "```\n",
    "\n",
    "You can use the empty code cell below to practice defining and graphing function. First import `NumPy` and `matplotlib`."
   ]
  },
  {
   "cell_type": "code",
   "execution_count": 22,
   "id": "7d9bad68-d0d9-4acc-9605-c32ce5f2e837",
   "metadata": {
    "tags": []
   },
   "outputs": [
    {
     "name": "stderr",
     "output_type": "stream",
     "text": [
      "/tmp/ipykernel_121/2597717357.py:3: MatplotlibDeprecationWarning: The seaborn styles shipped by Matplotlib are deprecated since 3.6, as they no longer correspond to the styles shipped by seaborn. However, they will remain available as 'seaborn-v0_8-<style>'. Alternatively, directly use the seaborn API instead.\n",
      "  plt.style.use('seaborn')\n"
     ]
    }
   ],
   "source": [
    "import numpy as np\n",
    "import matplotlib.pyplot as plt\n",
    "plt.style.use('seaborn')\n",
    "%matplotlib inline"
   ]
  },
  {
   "cell_type": "code",
   "execution_count": 23,
   "id": "05facda3-ce1d-4c6c-a8c9-d36387822cbe",
   "metadata": {},
   "outputs": [
    {
     "data": {
      "image/png": "[encoded data removed]",
      "text/plain": [
       "<Figure size 800x550 with 1 Axes>"
      ]
     },
     "metadata": {},
     "output_type": "display_data"
    }
   ],
   "source": [
    "def practice_function(x):\n",
    "    return x**2-1\n",
    "\n",
    "x = np.arange(-5,5.5,0.5)\n",
    "plt.plot(x,practice_function(x), color = 'black', ms = 3);"
   ]
  },
  {
   "cell_type": "markdown",
   "id": "7d907725-d8e0-4ff7-81d1-dc67c717ea77",
   "metadata": {},
   "source": [
    "Let's say we want to graph our example function from class to explain the bisection method:\n",
    "\n",
    "$$y=x^6-x-1$$"
   ]
  },
  {
   "cell_type": "markdown",
   "id": "bf11346a-7ec7-4c9b-bbfe-315faddb4d8b",
   "metadata": {},
   "source": [
    "<!-- BEGIN QUESTION -->\n",
    "\n",
    "**Question 4.** Write a python function for $y=x^6-x-1$ and sketch the graph over the interval $[-1,1]$."
   ]
  },
  {
   "cell_type": "code",
   "execution_count": 24,
   "id": "c3ffbe6c-738a-43a2-83f9-aceb0db185fc",
   "metadata": {
    "tags": []
   },
   "outputs": [
    {
     "data": {
      "image/png": "[encoded data removed]",
      "text/plain": [
       "<Figure size 800x550 with 1 Axes>"
      ]
     },
     "metadata": {},
     "output_type": "display_data"
    }
   ],
   "source": [
    "import numpy as np\n",
    "import matplotlib.pyplot as plt\n",
    "\n",
    "def function(x):\n",
    "    return x**6 - x - 1\n",
    "\n",
    "\n",
    "x_values = np.linspace(-1, 1, 400)\n",
    "y_values = function(x_values)\n",
    "\n",
    "# Plot the graph\n",
    "plt.plot(x_values, y_values, label='$y = x^6 - x - 1$')\n",
    "plt.xlabel('x')\n",
    "plt.ylabel('y')\n",
    "plt.title('Graph of $y = x^6 - x - 1$ over the interval [-1, 1]')\n",
    "plt.grid(True)\n",
    "plt.legend()\n",
    "plt.show()"
   ]
  },
  {
   "cell_type": "markdown",
   "id": "c3877ee9-cb70-49d2-b13e-4da8542e8902",
   "metadata": {},
   "source": [
    "<!-- END QUESTION -->\n",
    "\n",
    "This function is continuous over the interval $[-1, -0.5]$ and the Intermediate Value Theorem can be applied on the interval $[-1, -0.5]$, so we should be able to use the Bisection method to find the root on the interval. \n",
    "\n",
    "Before we proceed, let's make sure we know what the Bisection method is actually doing."
   ]
  },
  {
   "cell_type": "markdown",
   "id": "3ffc37c3-c5b4-4824-9de0-d34e4c0eedea",
   "metadata": {},
   "source": [
    "<!-- BEGIN QUESTION -->\n",
    "\n",
    "**Question 5.** Explain the how the Bisection method works."
   ]
  },
  {
   "cell_type": "markdown",
   "id": "93161072-c167-46a3-95d7-39a85b9f8942",
   "metadata": {},
   "source": [
    "Knowing that the Intermediate Value Theorem says if the function is continuous over the interval [a,b] and the function has oposite signs over this interval, you can derive the Bisection Method. The Bisection Method basically uses f(a+b)/2, or the midpoint of the interval. If f(a+b)/2 is the same sign as f(a), then the new interval is [(a+b)/2, b], and if it is different, the interval becomes [a, f(a+b)/2]. This process repeats until [a-b] is the desired error, and midpoint is reported as approximate zero."
   ]
  },
  {
   "cell_type": "markdown",
   "id": "5ca73757-51b7-4578-8eb0-bed16e21588c",
   "metadata": {},
   "source": [
    "<!-- END QUESTION -->\n",
    "\n",
    "Now let's implement the method and look at a table of values."
   ]
  },
  {
   "cell_type": "markdown",
   "id": "75079eb5-160c-42e1-bc1e-32834c251a69",
   "metadata": {},
   "source": [
    "<!-- BEGIN QUESTION -->\n",
    "\n",
    "**Question 6.** Run the code below to implement the Bisection method on the function $f(x)=x^6-x-1$.\n",
    "\n",
    "**Notes:** \n",
    "\n",
    "- If $f(a)$ and $f(b)$ do not have opposite signs stop the loop, print the message \"A root is not guaranteed in this interval.\".\n",
    "\n",
    "- Use a for loop and set the number of iterations to 25 (`iterations = 25`).\n",
    "\n",
    "- The inputs should be the endpoints of the interval $a$ and $b$ as well as a level of tolerance (`tol = 1e-6`).\n",
    "\n",
    "- If you do not reach the specified level of tolerance after 25 iterations then print the message \"Level of tolerance not reached after 25 iterations.\" and return the value.\n",
    "\n",
    "- If you reach the level of tolerance before 25 iterations stop the loop and return the value. A `break` statement can be used to end a loop. Click [here](https://www.geeksforgeeks.org/python-break-statement/) to read about how it is used."
   ]
  },
  {
   "cell_type": "code",
   "execution_count": 25,
   "id": "27ec2ac3-2bf7-498a-b3ac-7927ea9e0490",
   "metadata": {
    "tags": []
   },
   "outputs": [
    {
     "name": "stdout",
     "output_type": "stream",
     "text": [
      "n        x_n                            a                              b                             \n",
      "0        -0.75                          -1                             -0.5                           \n",
      "1        -0.875                         -1                             -0.75                          \n",
      "2        -0.8125                        -0.875                         -0.75                          \n",
      "3        -0.78125                       -0.8125                        -0.75                          \n",
      "4        -0.765625                      -0.78125                       -0.75                          \n",
      "5        -0.7734375                     -0.78125                       -0.765625                      \n",
      "6        -0.77734375                    -0.78125                       -0.7734375                     \n",
      "7        -0.779296875                   -0.78125                       -0.77734375                    \n",
      "8        -0.7783203125                  -0.779296875                   -0.77734375                    \n",
      "9        -0.77783203125                 -0.7783203125                  -0.77734375                    \n",
      "10       -0.778076171875                -0.7783203125                  -0.77783203125                 \n",
      "11       -0.7781982421875               -0.7783203125                  -0.778076171875                \n",
      "12       -0.77813720703125              -0.7781982421875               -0.778076171875                \n",
      "13       -0.778106689453125             -0.77813720703125              -0.778076171875                \n",
      "14       -0.7780914306640625            -0.778106689453125             -0.778076171875                \n",
      "15       -0.7780838012695312            -0.7780914306640625            -0.778076171875                \n",
      "16       -0.7780876159667969            -0.7780914306640625            -0.7780838012695312            \n",
      "17       -0.7780895233154297            -0.7780914306640625            -0.7780876159667969            \n",
      "18       -0.7780904769897461            -0.7780914306640625            -0.7780895233154297            \n",
      "\n",
      "Answer:\t -0.7780904769897461\n"
     ]
    }
   ],
   "source": [
    "def f(x):\n",
    "    return x**6-x-1\n",
    "\n",
    "def bisection_method(a, b, iterations = 25, tol = 1e-6):\n",
    "    \"\"\"\n",
    "    Parameters\n",
    "    ----------\n",
    "    a, b:            The endpoints of the interval\n",
    "    iterations = 25: Set the maximum number of iterations for the loop\n",
    "    tol = 1e-6:      Set the level of tolerance for the distance between x_i and the midpoint\n",
    "    \n",
    "    Returns\n",
    "    -------\n",
    "    The approximation for the root\n",
    "    \"\"\"\n",
    "    x_is = []\n",
    "    print(\"{:<8} {:<30} {:<30} {:<30}\".format('n','x_n','a','b'))\n",
    "    \n",
    "    if f(a)*f(b) >= 0:\n",
    "        print(\"A root is not guaranteed in this interval.\")\n",
    "    \n",
    "    for i in range(iterations):\n",
    "        c = (a + b)/2.0\n",
    "        x_is.append(c)\n",
    "        print(\"{:<8} {:<30} {:<30} {:<30} \".format(i, c,a,b ))\n",
    "        if f(a)*f(c) > 0:\n",
    "            a = c\n",
    "        else:\n",
    "            b = c\n",
    "            \n",
    "        if abs(b - a) < tol:\n",
    "            break\n",
    "        elif i == iterations-1:\n",
    "            print(\"\\nLevel of tolerance not reached after 25 iterations.\")\n",
    "            break\n",
    "        \n",
    "\n",
    "    \n",
    "    return c \n",
    "\n",
    "print(\"\\nAnswer:\\t\", bisection_method(-1, -0.5))"
   ]
  },
  {
   "cell_type": "code",
   "execution_count": null,
   "id": "ffd4f251-fcfd-4b48-b7cc-319578df7956",
   "metadata": {},
   "outputs": [],
   "source": []
  },
  {
   "cell_type": "markdown",
   "id": "20429a24-e742-43b8-a4b2-cfa3b699b199",
   "metadata": {},
   "source": [
    "#### Examining the Bisection Method\n",
    "\n",
    "Feel free to experiment with the code above - try changing the initial interval, tolerance, and/or the maximum number of iterations. Study what's happening so you understand how Bisection Method works. Then answer the question below:\n",
    "\n",
    "**Question 7.** What do you think are some of the strengths and weaknesses of the Bisection Method?"
   ]
  },
  {
   "cell_type": "markdown",
   "id": "e4f53bea-92bc-4acb-a937-e7b94140cd2d",
   "metadata": {
    "tags": []
   },
   "source": [
    "The Bisection Method is beneficial because it guarantees roots within the interval given the initial conditions are reached. It is simple to implement "
   ]
  },
  {
   "cell_type": "markdown",
   "id": "5a2dc936-4aad-4c5a-be78-24c9302b8b93",
   "metadata": {
    "tags": []
   },
   "source": [
    "## 4. Submitting your work\n",
    "You're done with Lab 03! Submit your work by doing the following:\n",
    "\n",
    "* Save your notebook\n",
    "\n",
    "* Restart the kernel and run all cells.\n",
    "\n",
    "* Right-click the `lab03` file in the navigation pane, then click \"download.\"\n",
    "\n",
    "* Upload the file you just downloaded to the Lab 03 assignment to Gradescope for Grading."
   ]
  }
 ],
 "metadata": {
  "kernelspec": {
   "display_name": "Python 3 (ipykernel)",
   "language": "python",
   "name": "python3"
  },
  "language_info": {
   "codemirror_mode": {
    "name": "ipython",
    "version": 3
   },
   "file_extension": ".py",
   "mimetype": "text/x-python",
   "name": "python",
   "nbconvert_exporter": "python",
   "pygments_lexer": "ipython3",
   "version": "3.11.5"
  }
 },
 "nbformat": 4,
 "nbformat_minor": 5
}
