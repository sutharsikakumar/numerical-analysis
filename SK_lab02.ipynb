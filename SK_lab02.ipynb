{
 "cells": [
  {
   "cell_type": "markdown",
   "id": "cf8c6e94-1fc2-42e3-8021-69460fff12df",
   "metadata": {},
   "source": [
    "# Lab 2: More about numbers in Python\n",
    "\n",
    "Welcome to Lab 02! Throughout the course you will complete a lab assignments like this one. You can't learn technical subjects without hands-on practice, so labs are an important part of the course.\n",
    "\n",
    "Collaborating on labs is more than okay -- it's encouraged. You should rarely remain stuck for more than a few minutes on questions in labs, so ask a neighbor or an instructor for help. Explaining things is beneficial, too -- the best way to solidify your knowledge of a subject is to explain it. You should **not** just copy/paste someone else's code, but rather work together to gain understanding of the task you need to complete. \n",
    "\n",
    "In today's lab, you'll learn how to:\n",
    "\n",
    "- work with various types of numbers in Python.\n",
    "\n",
    "- get more practice with Taylor Polynomials.\n",
    "\n",
    "- start to explore some other sources of error.\n",
    "\n",
    "To receive credit for a lab, answer all questions correctly and submit before the deadline.\n",
    "\n",
    "**Due Date:** Friday, February 16, 2024 at 10:00 pm\n",
    "\n",
    "**Collaboration Policy:** Labs are a collaborative activity. While you may talk with others about the labs, we ask that you **write your solutions individually**. If you do discuss the assignments with others **please include their names below**.\n",
    "\n",
    "**Collaborators:** \n",
    "\n",
    "List collaborators here."
   ]
  },
  {
   "cell_type": "markdown",
   "id": "a920d0bf-d1b1-420c-b189-08d4e341bc49",
   "metadata": {
    "tags": []
   },
   "source": [
    "## 1. Small Numbers\n",
    "\n",
    "### How Python Treats Numbers\n",
    "\n",
    "Python has three built-in numeric data types: integers, floating-point numbers, and complex numbers. Today we will only be concerned with integers and floating-point numbers. Integers and floating points are separated by the presence or absence of a decimal point. For instance, 5 is an integer whereas 5.0 is a floating-point number. Run the cells below to see examples."
   ]
  },
  {
   "cell_type": "code",
   "execution_count": 1,
   "id": "559975db-4745-4b9a-a06a-7bd0ee6aad0b",
   "metadata": {
    "tags": []
   },
   "outputs": [
    {
     "data": {
      "text/plain": [
       "5"
      ]
     },
     "execution_count": 1,
     "metadata": {},
     "output_type": "execute_result"
    }
   ],
   "source": [
    "5"
   ]
  },
  {
   "cell_type": "code",
   "execution_count": 2,
   "id": "f02ba700-1532-4f9d-b783-07a29e76e2e4",
   "metadata": {},
   "outputs": [
    {
     "data": {
      "text/plain": [
       "5.0"
      ]
     },
     "execution_count": 2,
     "metadata": {},
     "output_type": "execute_result"
    }
   ],
   "source": [
    "5.0"
   ]
  },
  {
   "cell_type": "markdown",
   "id": "54beeadc-bb6c-4f65-91bc-488ac3a7aca3",
   "metadata": {},
   "source": [
    "We can use the `type` function to know which type of a value or a variable belongs. "
   ]
  },
  {
   "cell_type": "code",
   "execution_count": 3,
   "id": "d9229f3f-99bf-4541-b78e-010bea6a112d",
   "metadata": {},
   "outputs": [
    {
     "name": "stdout",
     "output_type": "stream",
     "text": [
      "<class 'int'>\n",
      "<class 'float'>\n"
     ]
    }
   ],
   "source": [
    "print(type(5))\n",
    "print(type(5.0))"
   ]
  },
  {
   "cell_type": "code",
   "execution_count": 4,
   "id": "7dd54616-4e0f-4a74-96f8-02e521dcab18",
   "metadata": {
    "tags": []
   },
   "outputs": [
    {
     "name": "stdout",
     "output_type": "stream",
     "text": [
      "<class 'int'>\n",
      "<class 'float'>\n"
     ]
    }
   ],
   "source": [
    "x1 = 5\n",
    "x2 = 5.0\n",
    "\n",
    "print(type(x1))\n",
    "print(type(x2))"
   ]
  },
  {
   "cell_type": "markdown",
   "id": "7ac5aeb3-ff9e-4e22-b8e9-1a4b69eeaed9",
   "metadata": {},
   "source": [
    "A central theme of this course is the concept of approximations. Python's built-in floating-point class performs some calculations that we might not agree with. We all know that the sum of `1.1` and `2.2` is `3.3`, but Python seems to disagree. \n",
    "\n",
    "Run the cell below to see."
   ]
  },
  {
   "cell_type": "code",
   "execution_count": 5,
   "id": "b4fefbe2-9ec2-422a-a54c-0ee829af192b",
   "metadata": {},
   "outputs": [
    {
     "data": {
      "text/plain": [
       "False"
      ]
     },
     "execution_count": 5,
     "metadata": {},
     "output_type": "execute_result"
    }
   ],
   "source": [
    "(1.1+2.2)  == 3.3"
   ]
  },
  {
   "cell_type": "markdown",
   "id": "227d5d4b-0675-4124-97f5-918ddf026143",
   "metadata": {},
   "source": [
    "Why does Python think this is **False**? Run the cell below to see what Python thinks. "
   ]
  },
  {
   "cell_type": "code",
   "execution_count": 6,
   "id": "c8e44b98-aaf8-4142-806f-bd4db625475f",
   "metadata": {},
   "outputs": [
    {
     "data": {
      "text/plain": [
       "3.4000000000000004"
      ]
     },
     "execution_count": 6,
     "metadata": {},
     "output_type": "execute_result"
    }
   ],
   "source": [
    "1.2+2.2"
   ]
  },
  {
   "cell_type": "markdown",
   "id": "96a1e02d-db52-48da-8d0e-dd05f6d4de10",
   "metadata": {},
   "source": [
    "To quote the [documentation](https://docs.python.org/3.3/tutorial/floatingpoint.html):\n",
    "\n",
    "> Unfortunately, most decimal fractions cannot be represented exactly as binary fractions. A consequence is that, in general, the decimal floating-point numbers you enter are only approximated by the binary floating-point numbers actually stored in the machine.\n",
    "\n",
    "Sometimes we will get what we expect. Run the cells below to see some examples."
   ]
  },
  {
   "cell_type": "code",
   "execution_count": 7,
   "id": "0417c7bc-c7ae-4bc7-ae45-7d91a93568db",
   "metadata": {},
   "outputs": [
    {
     "data": {
      "text/plain": [
       "2.2"
      ]
     },
     "execution_count": 7,
     "metadata": {},
     "output_type": "execute_result"
    }
   ],
   "source": [
    "1.1+1.1"
   ]
  },
  {
   "cell_type": "code",
   "execution_count": 8,
   "id": "93fffa29-f18a-470d-970b-f5136be291db",
   "metadata": {},
   "outputs": [
    {
     "data": {
      "text/plain": [
       "3.4"
      ]
     },
     "execution_count": 8,
     "metadata": {},
     "output_type": "execute_result"
    }
   ],
   "source": [
    "1.1+2.3"
   ]
  },
  {
   "cell_type": "code",
   "execution_count": 9,
   "id": "4e0d68f5-e5fd-4c0a-b438-4684faa59e14",
   "metadata": {},
   "outputs": [
    {
     "data": {
      "text/plain": [
       "3.3000000000000003"
      ]
     },
     "execution_count": 9,
     "metadata": {},
     "output_type": "execute_result"
    }
   ],
   "source": [
    "1.1+2.2"
   ]
  },
  {
   "cell_type": "markdown",
   "id": "1d39377a-73a1-48ae-a20d-58f27e7a426b",
   "metadata": {},
   "source": [
    "Finally, below are a couple more fun ones..."
   ]
  },
  {
   "cell_type": "code",
   "execution_count": 10,
   "id": "baefd9ef-7765-48b8-9f0d-445ab32f207a",
   "metadata": {},
   "outputs": [
    {
     "data": {
      "text/plain": [
       "5.551115123125783e-17"
      ]
     },
     "execution_count": 10,
     "metadata": {},
     "output_type": "execute_result"
    }
   ],
   "source": [
    "0.1+0.1+0.1-0.3"
   ]
  },
  {
   "cell_type": "code",
   "execution_count": 11,
   "id": "85cbf099-206b-4906-94e9-b34a17b92dcd",
   "metadata": {},
   "outputs": [
    {
     "data": {
      "text/plain": [
       "1.9999930600533844e-09"
      ]
     },
     "execution_count": 11,
     "metadata": {},
     "output_type": "execute_result"
    }
   ],
   "source": [
    "99.999999999-99.999999997"
   ]
  },
  {
   "cell_type": "markdown",
   "id": "7b8f66fd-6faf-4739-9b2b-53fa8b052b7a",
   "metadata": {},
   "source": [
    "Hopefully what you just saw isn't that big a surprise, given what we've been doing in class lately with binary representations of non-integers. But it's still valuable to see the ramifications of what we've learned \"in action\"!\n",
    "\n",
    "Another big takeaway from this demo is that there is virtually **never** a good reason to check two floating-point numbers for equality!"
   ]
  },
  {
   "cell_type": "markdown",
   "id": "3aa52944-0d53-487b-ae80-40dfc4df3c32",
   "metadata": {},
   "source": [
    "# 2. IEEE 754\n",
    "\n",
    "IEEE is the *Institute of Electrical and Electronics Engineers*. Among other things they publish various standards, and standard \\#754 concerns floating-point numbers. Nearly all modern computers today use the IEEE 754 standard for floating-point numbers. The overall scheme is the same as the 6-bit example we worked with in class, except the IEEE 754 standard obviously calls for many more bits to work with. Some of the highlights of IEEE 754 include:\n",
    "- 2 levels of precision: single and double (this should sound familiar if you've done any programming in C)\n",
    "- in both levels of precision, 1 bit is allocated for the sign\n",
    "- single-precision allocates 8 bits for the exponent, 23 bits for the fractional part of the mantissa, and uses a bias of 127 when storing the signed exponent.\n",
    "- double-precision allocates 11 bits for the exponent, 52 bits for the fractional part of the mantissa, and uses a bias of 1023 when storing the signed exponent.\n",
    "\n",
    "Remember the scheme we used in class stores numbers in the form $(-1)^s \\times 1.f \\times 2^e$, where $s$ is the sign bit, $f$ is the fractional part of the mantissa, and $e$ is the exponent. (Remember there is no need to waste space to store the $1$ to the left of the point.)\n",
    "\n",
    "Also recall from our discussion in class that in this scheme there is no way to represent the number 0. Thus the actual IEEE 754 standard *reserves* some bit patterns to represent \"special\" values such as zero. Specifically when the **exponent** bits are all 1's or all 0's, that bit pattern represents some sort of \"special\" value, and thus isn't interpreted using our $(-1)^s \\times 1.f \\times 2^e$ scheme. Said another way, the exponent bit pattern $0...001$ is the smallest available exponent and the bit pattern $1...110$ is the largest."
   ]
  },
  {
   "cell_type": "markdown",
   "id": "1c5f7a49-2d22-41d2-b716-6a13313d010e",
   "metadata": {},
   "source": [
    "**Question 1**\n",
    "\n",
    "What are the smallest (i.e. closest to negative infinity, or most-left on a number line) and largest (i.e. most-right on a number line) exponents we actually have available in IEEE 754 double-precision format? Write your answers in the next cell."
   ]
  },
  {
   "cell_type": "markdown",
   "id": "21db9fa0-6686-498e-81f8-8f1e41f71afa",
   "metadata": {},
   "source": [
    "(put your answer to Q1 here)\n",
    "1 - 1023 = 1022 <-- lower\n",
    "2046 - 1023 = 1023 <-- upper"
   ]
  },
  {
   "cell_type": "markdown",
   "id": "1ed8f177-d9d6-4525-85cf-91e6367fcac1",
   "metadata": {},
   "source": [
    "**Question 2**\n",
    "\n",
    "What is the smallest (i.e. closest to 0) positive number available in IEEE 754 double-precision? What is the largest (i.e. closest to +inf) number? Feel free to write code to compute these values (based on our floating-point representation scheme) or compute these values \"by hand\" and record your work. (If the latter, please simply enter your answer as commented-code, since the cell is a code block.)"
   ]
  },
  {
   "cell_type": "code",
   "execution_count": 22,
   "id": "fa5cf445-5b00-4d4f-b0b0-c50d3cc092e9",
   "metadata": {},
   "outputs": [
    {
     "name": "stdout",
     "output_type": "stream",
     "text": [
      "small value = 2^-1022\n",
      "large value: \n",
      "1.7976931348623155e+308\n"
     ]
    }
   ],
   "source": [
    "## the lowest value would be 2^-1022\n",
    "## the largest value would be:\n",
    "print(\"small value = \" + \"2^-1022\")\n",
    "\n",
    "e = 1023\n",
    "f = 1\n",
    "for x in range (1,52):\n",
    "    f = f + 2**(-1*x)\n",
    "largeValue = f*(2**e)\n",
    "\n",
    "print(\"large value: \")\n",
    "print(largeValue)"
   ]
  },
  {
   "cell_type": "markdown",
   "id": "1f93b4a2-ecd5-4bc5-9740-b73109c1f625",
   "metadata": {},
   "source": [
    "**Question 4**\n",
    "\n",
    "Machine-epsilon is defined as the smallest positive number that when added to 1 results in a value greater than 1. Write a short program that finds this value.\n"
   ]
  },
  {
   "cell_type": "markdown",
   "id": "2639ea81-2444-4477-80aa-a3a0401bc1ae",
   "metadata": {},
   "source": [
    "(put your answer to Q3 here)\n",
    "\n",
    "(2^-1021) - (2^-1022)= 2.2250738585e-308"
   ]
  },
  {
   "cell_type": "markdown",
   "id": "a021d08a-f8d7-4a39-b5e6-3175ece8e96c",
   "metadata": {},
   "source": [
    "**Question 4**\n",
    "\n",
    "Machine-epsilon is defined as the smallest positive number that when added to 1 results in a value greater than 1. Write a short program that finds this value.\n"
   ]
  },
  {
   "cell_type": "code",
   "execution_count": 25,
   "id": "cbb3cc82-9265-4152-863b-540f7902cde7",
   "metadata": {},
   "outputs": [
    {
     "name": "stdout",
     "output_type": "stream",
     "text": [
      "2.220446049250313e-16\n"
     ]
    }
   ],
   "source": [
    "## write your code/ solution to Q4 here\n",
    "\n",
    "sum = 0 \n",
    "for x in range(1022):\n",
    "    if sum + 1 > 1:\n",
    "        print(sum)\n",
    "        break\n",
    "    sum = 2**(-1022 + x)"
   ]
  },
  {
   "cell_type": "markdown",
   "id": "ca3fbf61-8f86-4a15-b7f4-a62cde0a37bb",
   "metadata": {},
   "source": [
    "## 3. More Taylor Polynomials\n",
    "\n",
    "**Question 5**\n",
    "\n",
    "Recall that $tan(\\pi/4)=1$, so one possible way to approximate $\\pi$ is to approximate $4 atan(1)$. In your notes find a degree-11 Taylor Polynomial for $f(x)=atan(x)$. Then write a Python program to compute the value of this polynomial at $x=1$, thus approximating $atan(1)$. The result should be close to $\\pi/4$. (Hint: you might want to look back at Lab 1 and use/ adapt some of the code you wrote when you evaluated a Taylor Polynomial in that lab.)"
   ]
  },
  {
   "cell_type": "code",
   "execution_count": 33,
   "id": "79a61102-c4d6-45be-bbea-3b1bd70f4b7b",
   "metadata": {},
   "outputs": [
    {
     "name": "stdout",
     "output_type": "stream",
     "text": [
      "0.020797471915614985\n"
     ]
    }
   ],
   "source": [
    "## write your code for Q5 here\n",
    "import numpy as np\n",
    "import math \n",
    "\n",
    "def arctan(x, n):\n",
    "    result = 0\n",
    "    for i in range(n+1):\n",
    "        coef = (-1)**i\n",
    "        num = x**(2*i+1)\n",
    "        denom = 2*i+1\n",
    "        result += coef * (num / denom)\n",
    "    return result\n",
    "\n",
    "def taylorPol(x):\n",
    "    return arctan(x, 11)\n",
    "    \n",
    "## value at 1\n",
    "x_value = 1\n",
    "taylor_approximation = taylorPol(x_value)\n",
    "\n",
    "pi4 = (math.pi)/4\n",
    "\n",
    "print(pi4 - taylor_approximation)"
   ]
  },
  {
   "cell_type": "markdown",
   "id": "f5f197e9-4212-4fea-ad0a-c4209c2bd990",
   "metadata": {},
   "source": [
    "Hopefully you're not very impressed with how much error there is, especially after going all the way to degree-11. It can be shown that if the Taylor Polynomial for $atan(x)$ has degree $2n-1$, then the error term is $$\\frac{(-1)^{n}}{1+c^2} \\frac{x^{2n+1}}{2n+1}$$\n",
    "for some $c$ between 0 and $x$.\n"
   ]
  },
  {
   "cell_type": "markdown",
   "id": "3ce18ecf-a865-47dc-9b39-69314169654b",
   "metadata": {},
   "source": [
    "**Question 6**\n",
    "\n",
    "Use this error term to determine how many terms we need to approximate $atan(x)$ with error no more than $10^{-7}$. Then re-run your code above with that many terms (instead of stopping at degree-11), and verify that your approximation indeed meets this error bound. Paste your \"new\" code for this question in the cell below."
   ]
  },
  {
   "cell_type": "code",
   "execution_count": 3,
   "id": "7c211332-a6d2-4282-8e44-9f6a971a5025",
   "metadata": {},
   "outputs": [
    {
     "name": "stdout",
     "output_type": "stream",
     "text": [
      "2499\n",
      "9.999999599985543e-05\n"
     ]
    }
   ],
   "source": [
    "## write your code for Q6 here\n",
    "import numpy as np\n",
    "import math \n",
    "\n",
    "def arctan(x, n):\n",
    "    result = 0\n",
    "    for i in range(n+1):\n",
    "        coef = (-1)**i\n",
    "        num = x**(2*i+1)\n",
    "        denom = 2*i+1\n",
    "        result += coef * (num / denom)\n",
    "    return result\n",
    "\n",
    "def taylorPol(x, error_bound):\n",
    "    n = 0\n",
    "    current_error = abs(arctan(x, n) - (math.pi/4))\n",
    "    while current_error > error_bound:\n",
    "        n += 1\n",
    "        current_error = abs(arctan(x, n) - (math.pi/4))\n",
    "    return n\n",
    "\n",
    "def arctan_approximation(x, n):\n",
    "    result = 0\n",
    "    for i in range(n+1):\n",
    "        coef = (-1)**i\n",
    "        num = x**(2*i+1)\n",
    "        denom = 2*i+1\n",
    "        result += coef * (num / denom)\n",
    "    return result\n",
    "\n",
    "\n",
    "error_bound = 0.00001  \n",
    "\n",
    "terms_needed = taylorPol(1, error_bound)\n",
    "\n",
    "taylor_approximation = arctan_approximation(1, terms_needed)\n",
    "\n",
    "pi4 = (math.pi) / 4\n",
    "\n",
    "print(terms_needed)\n",
    "print(abs(pi4 - taylor_approximation))"
   ]
  },
  {
   "cell_type": "markdown",
   "id": "5e0b07f9-bbde-4983-93d9-1a648bccbcf0",
   "metadata": {},
   "source": [
    "## 4. Sources of error\n",
    "\n",
    "Finally, we're going to spend some time the next few days in class looking at some common sources of error (and how to *hopefully* reduce that error!)\n",
    "\n",
    "**Question 7**\n",
    "\n",
    "As sort of a teaser, plot the function $f(x)=\\frac{1-cos(x^2)}{x^4}$ over the interval $[-1,1]$. Then change your plot so we're graphing over the interval $[-0.001,0,001]$. Do you notice anything weird/ interesting/ suspicious?..."
   ]
  },
  {
   "cell_type": "code",
   "execution_count": 4,
   "id": "562a7f32-ca45-4151-88a0-885310630d28",
   "metadata": {},
   "outputs": [
    {
     "data": {
      "image/png": "[encoded data removed]",
      "text/plain": [
       "<Figure size 800x600 with 1 Axes>"
      ]
     },
     "metadata": {},
     "output_type": "display_data"
    },
    {
     "data": {
      "image/png": "[encoded data removed]",
      "text/plain": [
       "<Figure size 800x600 with 1 Axes>"
      ]
     },
     "metadata": {},
     "output_type": "display_data"
    }
   ],
   "source": [
    "## write your code for Q7 here; if you have any remarks/ observations, inclue them as comments after the code\n",
    "import numpy as np\n",
    "import matplotlib.pyplot as plt\n",
    "\n",
    "def f(x):\n",
    "    return (1 - np.cos(x**2)) / x**4\n",
    "\n",
    "x_interval1 = np.linspace(-1, 1, 1000)\n",
    "\n",
    "plt.figure(figsize=(8, 6))\n",
    "plt.plot(x_interval1, f(x_interval1), label=r'$\\frac{1-\\cos(x^2)}{x^4}$')\n",
    "plt.title('Plot of $f(x) = \\\\frac{1-\\\\cos(x^2)}{x^4}$ over the interval [-1, 1]')\n",
    "plt.xlabel('x')\n",
    "plt.ylabel('f(x)')\n",
    "plt.legend()\n",
    "plt.grid(True)\n",
    "plt.show()\n",
    "\n",
    "x_interval2 = np.linspace(0.001, 0.001, 1000)\n",
    "\n",
    "plt.figure(figsize=(8, 6))\n",
    "plt.plot(x_interval2, f(x_interval2), label=r'$\\frac{1-\\cos(x^2)}{x^4}$')\n",
    "plt.title('Plot of $f(x) = \\\\frac{1-\\\\cos(x^2)}{x^4}$ over the interval [0.001, 0.001]')\n",
    "plt.xlabel('x')\n",
    "plt.ylabel('f(x)')\n",
    "plt.legend()\n",
    "plt.grid(True)\n",
    "plt.show()\n",
    "\n",
    "#its interesting that nothing shows up for the second one. "
   ]
  },
  {
   "cell_type": "markdown",
   "id": "5a2dc936-4aad-4c5a-be78-24c9302b8b93",
   "metadata": {
    "tags": []
   },
   "source": [
    "## 5. Submitting your work\n",
    "You're done with Lab 02! Submit your work by doing the following:\n",
    "\n",
    "* Save your notebook\n",
    "\n",
    "* Restart the kernel and run all cells.\n",
    "\n",
    "* Right-click the `lab02` file in the navigation pane, then click \"download.\"\n",
    "\n",
    "* Upload the file you just downloaded to the Lab 02 assignment to Gradescope for Grading."
   ]
  }
 ],
 "metadata": {
  "kernelspec": {
   "display_name": "Python 3 (ipykernel)",
   "language": "python",
   "name": "python3"
  },
  "language_info": {
   "codemirror_mode": {
    "name": "ipython",
    "version": 3
   },
   "file_extension": ".py",
   "mimetype": "text/x-python",
   "name": "python",
   "nbconvert_exporter": "python",
   "pygments_lexer": "ipython3",
   "version": "3.11.5"
  }
 },
 "nbformat": 4,
 "nbformat_minor": 5
}
