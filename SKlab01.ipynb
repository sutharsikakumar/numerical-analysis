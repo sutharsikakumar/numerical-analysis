{
 "cells": [
  {
   "cell_type": "markdown",
   "id": "6ca579b6-a4a3-4b3f-94eb-24161002c15b",
   "metadata": {
    "tags": []
   },
   "source": [
    "# Lab 01: Collection Data Types, Arrays, and Taylor Polynomials\n",
    "\n",
    "Welcome to Lab 01! Throughout the course you will complete a lab assignments like this one. You can't learn technical subjects without hands-on practice, so labs are an important part of the course.\n",
    "\n",
    "Collaborating on labs is more than okay -- it's encouraged. You should rarely remain stuck for more than a few minutes on questions in labs, so ask a neighbor or an instructor for help. Explaining things is beneficial, too -- the best way to solidify your knowledge of a subject is to explain it. You should **not** just copy/paste someone else's code, but rather work together to gain understanding of the task you need to complete. \n",
    "\n",
    "In today's lab, you'll learn how to:\n",
    "\n",
    "- import Python libraries.\n",
    "\n",
    "- write user-defined functions.\n",
    "\n",
    "- plot graphs.\n",
    "\n",
    "To receive credit for a lab, answer all questions correctly and submit before the deadline.\n",
    "\n",
    "**Due Date:** Thursday, February 9, 2023 at 11:59 pm\n",
    "\n",
    "**Collaboration Policy:** Labs are a collaborative activity. While you may talk with others about the labs, we ask that you **write your solutions individually**. If you do discuss the assignments with others **please include their names below**.\n",
    "\n",
    "**Collaborators:** \n",
    "\n",
    "List collaborators here."
   ]
  },
  {
   "cell_type": "markdown",
   "id": "94fa20c4-ee77-49db-b517-01e12b6460db",
   "metadata": {},
   "source": [
    "## 1. Keyboard Shortcuts\n",
    "\n",
    "Even if you are familiar with Jupyter, we strongly encourage you to become proficient with keyboard shortcuts (this will save you time in the future). To learn about keyboard shortcuts, go to **Help $\\to$ Keyboard Shortcuts** in the menu above.\n",
    "\n",
    "Here are a few that we like:\n",
    "\n",
    "1. Ctrl + Return: Evaluate the current cell\n",
    "2. Shift + Return: Evaluate the current cell and move to the next\n",
    "3. ESC: command mode (may need to press before using any of the commands below)\n",
    " -  a: create a cell above\n",
    " -  b: create a cell below\n",
    " - dd: delete a cell\n",
    " -  z: undo the last cell operation\n",
    " -  m: convert a cell to markdown\n",
    " -  y: convert a cell to code"
   ]
  },
  {
   "cell_type": "markdown",
   "id": "f6a02138-3ebb-4b2c-bdd2-f908177d8ff4",
   "metadata": {},
   "source": [
    "## 2. Importing Libraries and Magic Commands\n",
    "\n",
    "In Numerical Analysis, we will be using common Python libraries to help us perform mathematical operations. A library is an umbrella term referring to a reusable chunk of code. Usually, a Python library contains a collection of related modules and packages. Actually, this term is often used interchangeably with “Python package” because packages can also contain modules and other packages (subpackages). However, it is often assumed that while a package is a collection of modules, a library is a collection of packages.\n",
    "\n",
    "By convention, we import all libraries at the very top of the notebook. There are also a set of standard aliases that are used to shorten the library names. Below are some of the libraries that you may encounter throughout the course, along with their respective aliases.\n",
    "\n",
    "### Importing Libraries\n",
    "\n",
    "We'll look at the `math` module as a first example. The `math` module is extremely useful in computing mathematical expressions in Python. \n",
    "\n",
    "Suppose we want to very accurately compute the area of a circle with a radius of 5 meters.  For that, we need the constant $\\pi$, which is roughly 3.14.  Conveniently, the `math` module has `pi` defined for us.\n",
    "\n",
    "Run the cell below, but please **do not** change it."
   ]
  },
  {
   "cell_type": "code",
   "execution_count": 7,
   "id": "84fce42d-a5ee-430a-ae51-f415168c1f7f",
   "metadata": {},
   "outputs": [
    {
     "data": {
      "text/plain": [
       "78.53981633974483"
      ]
     },
     "execution_count": 7,
     "metadata": {},
     "output_type": "execute_result"
    }
   ],
   "source": [
    "import math\n",
    "\n",
    "radius = 5\n",
    "area_of_circle = radius**2*math.pi\n",
    "area_of_circle"
   ]
  },
  {
   "cell_type": "markdown",
   "id": "b02457fd-65a1-4dbf-98b9-2202e4882d56",
   "metadata": {
    "tags": []
   },
   "source": [
    "In the code above, the line `import math` imports the math module. This statement creates a module and then assigns the name `math` to that module. We are now able to access any variables or functions defined within `math` by typing the name of the module followed by a dot, then followed by the name of the variable or function we want."
   ]
  },
  {
   "cell_type": "markdown",
   "id": "08de46ab-74fd-4234-ae5c-aac707d8f0c6",
   "metadata": {},
   "source": [
    "**Question 1.** The module `math` also provides the name `e` for the base of the natural logarithm, which is roughly 2.71.  Compute $e^{\\pi}-\\pi$, giving it the name `near_twenty`."
   ]
  },
  {
   "cell_type": "code",
   "execution_count": 8,
   "id": "0ffb3ce9-e7a1-4992-8a42-dfa9c66ed258",
   "metadata": {
    "tags": []
   },
   "outputs": [
    {
     "data": {
      "text/plain": [
       "19.317565064771248"
      ]
     },
     "execution_count": 8,
     "metadata": {},
     "output_type": "execute_result"
    }
   ],
   "source": [
    "near_twenty = math.pi**math.e-math.pi\n",
    "near_twenty "
   ]
  },
  {
   "cell_type": "markdown",
   "id": "7fef4e19-7211-4bd6-83d2-46f894f09003",
   "metadata": {
    "tags": []
   },
   "source": [
    "In the question above, you accessed variables within the `math` module. \n",
    "\n",
    "Modules also define functions.  For example, `math` provides the name `sin` for the sine function.  Having imported `math` already, we can write `math.sin(3)` to compute the sine of 3.\n",
    "\n",
    "**Note:** This sine function considers its argument to be in [radians](https://en.wikipedia.org/wiki/Radian), not degrees. 180 degrees are equivalent to $\\pi$ radians."
   ]
  },
  {
   "cell_type": "markdown",
   "id": "8d29c9b7-eefc-4b0c-b0d4-bc01ac55d7c9",
   "metadata": {
    "tags": []
   },
   "source": [
    "**Question 2.** A $\\frac{\\pi}{4}$ radian (45-degree) angle forms a right triangle with equal base and height, pictured below.  If the hypotenuse (the radius of the circle in the picture) is 1, then the height is $\\sin\\left(\\frac{\\pi}{4}\\right)$.  Compute that value using `sin` and `pi` from the `math` module.  Give the result the name `sine_of_pi_over_four`.\n",
    "\n",
    "<img src=\"http://mathworld.wolfram.com/images/eps-gif/TrigonometryAnglesPi4_1000.gif\">\n",
    "\n",
    "**Source:** [Wolfram MathWorld](http://mathworld.wolfram.com/images/eps-gif/TrigonometryAnglesPi4_1000.gif)"
   ]
  },
  {
   "cell_type": "code",
   "execution_count": 9,
   "id": "dff6ab2e-31de-4ce8-8384-cdb362e2c3ec",
   "metadata": {
    "tags": []
   },
   "outputs": [
    {
     "data": {
      "text/plain": [
       "0.7071067811865475"
      ]
     },
     "execution_count": 9,
     "metadata": {},
     "output_type": "execute_result"
    }
   ],
   "source": [
    "sine_of_pi_over_four = math.sin(math.pi/4)\n",
    "sine_of_pi_over_four"
   ]
  },
  {
   "cell_type": "markdown",
   "id": "eb7851e0-0479-49b8-a32b-fc19e6226343",
   "metadata": {
    "id": "H8VoDsycgXss"
   },
   "source": [
    "For your reference, the cells below demonstrate some more examples of functions from the `math` module.\n",
    "\n",
    "Notice how different functions take in different numbers of arguments. Often, the [documentation](https://docs.python.org/3/library/math.html) of the module will provide information on how many arguments are required for each function.\n",
    "\n",
    "Run the cell below."
   ]
  },
  {
   "cell_type": "code",
   "execution_count": 10,
   "id": "0d5334d6-61a5-49fd-9cf0-6b300f87c107",
   "metadata": {
    "id": "j4014fPQgXst",
    "outputId": "b9784df5-e804-46f8-96b1-e8699f0f3282"
   },
   "outputs": [
    {
     "data": {
      "text/plain": [
       "3.0"
      ]
     },
     "execution_count": 10,
     "metadata": {},
     "output_type": "execute_result"
    }
   ],
   "source": [
    "# Calculating logarithms (the logarithm of 8 in base 2)\n",
    "# The result is 3 because 2 to the power of 3 is 8\n",
    "math.log(8, 2)"
   ]
  },
  {
   "cell_type": "markdown",
   "id": "34cf49ab-3883-4aac-8203-de328d3618d4",
   "metadata": {
    "id": "YpLfOCiogXsz"
   },
   "source": [
    "Run the cell below."
   ]
  },
  {
   "cell_type": "code",
   "execution_count": 11,
   "id": "1941f6f2-e5da-4751-abce-4c4615928998",
   "metadata": {
    "id": "Nwn8DtQpgXs0",
    "outputId": "783ac633-3ec0-4d7e-90f6-5420561cf7e1"
   },
   "outputs": [
    {
     "data": {
      "text/plain": [
       "2.23606797749979"
      ]
     },
     "execution_count": 11,
     "metadata": {},
     "output_type": "execute_result"
    }
   ],
   "source": [
    "# Calculating square roots\n",
    "math.sqrt(5)"
   ]
  },
  {
   "cell_type": "markdown",
   "id": "26c9da55-7f21-486d-9dea-19443d81b5db",
   "metadata": {
    "id": "iTBcquQpgXs4"
   },
   "source": [
    "There are various ways to import and access code from outside sources. The method we used above — `import <module_name>` — imports the entire module and requires that we use `<module_name>.<name>` to access its code. \n",
    "\n",
    "We can also import a specific constant or function instead of the entire module. Notice that you don't have to use the module name beforehand to reference that particular value. However, you do have to be careful about reassigning the names of the constants or functions to other values.\n",
    "\n",
    "Run the cell below."
   ]
  },
  {
   "cell_type": "code",
   "execution_count": 12,
   "id": "4aac63d9-ef92-4906-beca-544b22b67c9b",
   "metadata": {
    "id": "GKxZL2RygXs5",
    "outputId": "ffb394b1-947d-4108-b937-dd73450a077b"
   },
   "outputs": [
    {
     "name": "stdout",
     "output_type": "stream",
     "text": [
      "-1.0\n"
     ]
    },
    {
     "data": {
      "text/plain": [
       "1.1447298858494002"
      ]
     },
     "execution_count": 12,
     "metadata": {},
     "output_type": "execute_result"
    }
   ],
   "source": [
    "# Importing just cos and pi from math\n",
    "# We don't have to use `math.` in front of cos or pi\n",
    "\n",
    "from math import cos, pi\n",
    "print(cos(pi))\n",
    "\n",
    "# We do have to use it in front of other functions from math, though\n",
    "math.log(pi)"
   ]
  },
  {
   "cell_type": "markdown",
   "id": "e10eea9f-eea2-436a-bc94-bb59b66c6e91",
   "metadata": {
    "id": "aPhaMtM3gXs8"
   },
   "source": [
    "Or we can import every function and value from the entire module.\n",
    "\n",
    "Run the cell below."
   ]
  },
  {
   "cell_type": "code",
   "execution_count": 13,
   "id": "923e6723-87dc-4072-9f8f-29279081fd39",
   "metadata": {
    "id": "IYmmtADEgXs8",
    "outputId": "642cbbda-4a8f-40f3-9733-be7991b6f515"
   },
   "outputs": [
    {
     "data": {
      "text/plain": [
       "1.1447298858494002"
      ]
     },
     "execution_count": 13,
     "metadata": {},
     "output_type": "execute_result"
    }
   ],
   "source": [
    "# Lastly, we can import everything from math using the *\n",
    "# Once again, we don't have to use 'math.' beforehand \n",
    "\n",
    "from math import *\n",
    "log(pi)"
   ]
  },
  {
   "cell_type": "markdown",
   "id": "3bc2f097-7861-4857-8264-28d81c9cb41e",
   "metadata": {
    "id": "fq6QWeRqgXtA",
    "tags": []
   },
   "source": [
    "Don't worry too much about which type of import to use. It's often a coding style choice left up to each programmer. In this course, you'll always import the necessary modules when you run the setup cell (like the first code cell in this lab)."
   ]
  },
  {
   "cell_type": "markdown",
   "id": "78673254-c400-4358-bf69-153f6d745520",
   "metadata": {
    "tags": []
   },
   "source": [
    "### Magic Commands\n",
    "\n",
    "`%matplotlib inline` is a Jupyter magic command that configures the notebook so that Matplotlib displays any plots that you draw directly in the notebook rather than to a file, allowing you to view the plots upon executing your code.\n",
    "\n",
    "Run the cell below. (Nothing will appear to happen, but it will allow us to easily make graphs later in the lab.)"
   ]
  },
  {
   "cell_type": "code",
   "execution_count": 14,
   "id": "36121626-fdbf-497a-b574-7bb43cb7c099",
   "metadata": {},
   "outputs": [],
   "source": [
    "import matplotlib.pyplot as plt\n",
    "plt.style.use(\"fivethirtyeight\")\n",
    "%matplotlib inline"
   ]
  },
  {
   "cell_type": "markdown",
   "id": "6adc7e6c-1d41-4d4c-90c3-12ad1cce302e",
   "metadata": {},
   "source": [
    "Another useful magic command is `%%time`, which times the execution of that cell. You can use this by writing it as the first line of a cell.\n",
    "\n",
    "**Note:** `%%` is used for cell magic commands that apply to the entire cell, whereas `%` is used for line magic commands that only apply to a single line."
   ]
  },
  {
   "cell_type": "code",
   "execution_count": 15,
   "id": "5d7d2d62-f0be-40ae-a4d1-cf3cac4d764b",
   "metadata": {
    "tags": []
   },
   "outputs": [
    {
     "name": "stdout",
     "output_type": "stream",
     "text": [
      "CPU times: user 15 µs, sys: 0 ns, total: 15 µs\n",
      "Wall time: 19.1 µs\n"
     ]
    }
   ],
   "source": [
    "%%time\n",
    "\n",
    "# Initialize an empty list\n",
    "my_list = []\n",
    "\n",
    "for i in range(100):  # for loop to iterate through the values 0 to 99\n",
    "    my_list.append(i) # The .append method will add an item to the end of a list "
   ]
  },
  {
   "cell_type": "markdown",
   "id": "5e3a3307-0bbb-4d8a-8408-c4b421df6368",
   "metadata": {},
   "source": [
    "## 2. Collections of Elements\n",
    "\n",
    "The cell above uses a list, a `for` loop, the `range` function, and the `.append()` method.\n",
    "\n",
    "#### Lists \n",
    "\n",
    "* Lists are used to store multiple items in a single variable. \n",
    "\n",
    "* Lists are a built-in data type in Python used to store collections of data.\n",
    ".\n",
    "* Lists may contain different types\n",
    "\n",
    "* List items are ordered, changeable, and allow duplicate values. \n",
    "\n",
    "* List items are indexed, the first item has index `[0]`, the second item has index `[1]` etc\n",
    "\n",
    "* Lists are created using square brackets. For example, `my_list = [2, 3, 5, 7, 11]`, is a list of the first 5 prime numbers.\n",
    "\n",
    "#### `for` loop\n",
    "\n",
    "* A `for` loop is used for iterating over a sequence (like a list).\n",
    "\n",
    "* A `for` loop will execute a set of statements, once for each item in a sequence (like a list).\n",
    "\n",
    "#### `range`\n",
    "\n",
    "* The `range()` function returns a sequence of numbers, starting from 0 by default, and increments by 1 (by default), and stops before a specified number. The syntax for the `range()` function is `range(start, stop, step)`.\n",
    "\n",
    "#### `.append()`\n",
    "\n",
    "* The `.append()` method will \"append\" an item to the end of a list (we will cover this method in more detail later)."
   ]
  },
  {
   "cell_type": "markdown",
   "id": "8d37a1dd-4afc-4a6c-8b5c-b1ebbb881f72",
   "metadata": {
    "tags": []
   },
   "source": [
    "**Question 3.** Use the `range()` function to generate a list of the first 100 odd integers. Save the list of numbers to `first100_odd_integers`.\n",
    "\n",
    "**Hint:** Review the syntax of the `range()` function. "
   ]
  },
  {
   "cell_type": "code",
   "execution_count": 16,
   "id": "48ee6476-4bcf-43ce-8804-1c6d9809fa9a",
   "metadata": {
    "tags": []
   },
   "outputs": [
    {
     "data": {
      "text/plain": [
       "range(0, 201, 2)"
      ]
     },
     "execution_count": 16,
     "metadata": {},
     "output_type": "execute_result"
    }
   ],
   "source": [
    "first100_odd_integers = range(0,201,2)\n",
    "first100_odd_integers"
   ]
  },
  {
   "cell_type": "markdown",
   "id": "7a6367b1-9037-460c-90e4-8abdfe979b36",
   "metadata": {},
   "source": [
    "The output from **Question 3.** looked like this\n",
    "\n",
    "```\n",
    "range(1, 201, 2)\n",
    "```\n",
    "\n",
    "When we ran the code cell the variable name `first100_odd_integers` was on the last line. We didn't see the list of numbers, only what was on the right of the equal sign. If we want to see actual list of numbers we can use a `for` loop.\n",
    "\n",
    "Run the cell below."
   ]
  },
  {
   "cell_type": "code",
   "execution_count": 17,
   "id": "65accd19-a0c1-479c-b603-652f6086f2c9",
   "metadata": {},
   "outputs": [
    {
     "name": "stdout",
     "output_type": "stream",
     "text": [
      "1\n",
      "3\n",
      "5\n",
      "7\n",
      "9\n",
      "11\n",
      "13\n",
      "15\n",
      "17\n",
      "19\n",
      "21\n",
      "23\n",
      "25\n",
      "27\n",
      "29\n",
      "31\n",
      "33\n",
      "35\n",
      "37\n",
      "39\n",
      "41\n",
      "43\n",
      "45\n",
      "47\n",
      "49\n",
      "51\n",
      "53\n",
      "55\n",
      "57\n",
      "59\n",
      "61\n",
      "63\n",
      "65\n",
      "67\n",
      "69\n",
      "71\n",
      "73\n",
      "75\n",
      "77\n",
      "79\n",
      "81\n",
      "83\n",
      "85\n",
      "87\n",
      "89\n",
      "91\n",
      "93\n",
      "95\n",
      "97\n",
      "99\n",
      "101\n",
      "103\n",
      "105\n",
      "107\n",
      "109\n",
      "111\n",
      "113\n",
      "115\n",
      "117\n",
      "119\n",
      "121\n",
      "123\n",
      "125\n",
      "127\n",
      "129\n",
      "131\n",
      "133\n",
      "135\n",
      "137\n",
      "139\n",
      "141\n",
      "143\n",
      "145\n",
      "147\n",
      "149\n",
      "151\n",
      "153\n",
      "155\n",
      "157\n",
      "159\n",
      "161\n",
      "163\n",
      "165\n",
      "167\n",
      "169\n",
      "171\n",
      "173\n",
      "175\n",
      "177\n",
      "179\n",
      "181\n",
      "183\n",
      "185\n",
      "187\n",
      "189\n",
      "191\n",
      "193\n",
      "195\n",
      "197\n",
      "199\n"
     ]
    }
   ],
   "source": [
    "for number in range(1, 201, 2):\n",
    "    print(number)"
   ]
  },
  {
   "cell_type": "markdown",
   "id": "97eadfbe-d31a-4620-bc36-edb4bc0ade6d",
   "metadata": {},
   "source": [
    "`for` loops are used when you have a block of code which you want to repeat a fixed number of times. The `for` loop is always used in combination with an iterable object, like a *list* or a *range*. The Python `for` statement iterates over the members of a sequence in order, executing the block each time.\n",
    "\n",
    "In the `for` loop in the previous code cell the name `number` is used as a container for each element in the range of odd integers from 1 to 199. The value of `number` is updated each time the loop iterates over the range of odd integers. The choice of the name `number` is nothing special. We could have used any acceptable Python name. For example, we could have written\n",
    "\n",
    "```\n",
    "for i in range(1, 201, 2):\n",
    "    print(i)\n",
    "```\n",
    "\n",
    "As long as the name is valid meaning it only consists of:\n",
    "\n",
    "* uppercase and lowercase letters ( A-Z , a-z )\n",
    "\n",
    "* digits ( 0-9 )\n",
    "\n",
    "* the underscore character ( _ )\n",
    "\n",
    "and \n",
    "\n",
    "* doesn't start with a digit (0-9) \n",
    "\n",
    "we can use it."
   ]
  },
  {
   "cell_type": "markdown",
   "id": "501c631c-272c-4a79-b2b6-b5e5ca331632",
   "metadata": {
    "tags": []
   },
   "source": [
    "## 3. `Numpy`\n",
    "\n",
    "It seems that it would be beneficial to be able to view our list of values without having to resort to writing a `for` loop.\n",
    "\n",
    "In our class we will do a lot computations and plotting. Thus, we need to be able to work with lists of numbers. To work with lists of numbers we will use the `NumPy` library. \n",
    "\n",
    "#### What is `NumPy`?\n",
    "\n",
    "`NumPy` is a library for the Python programming language, adding support for large, multi-dimensional arrays and matrices, along with a large collection of high-level mathematical functions to operate on these arrays. `NumPy` (Numerical Python) is an open source Python library that’s used in almost every field of science and engineering.  Click [here](https://numpy.org/doc/stable/user/absolute_beginners.html) to read more about the  basics for beginners. \n",
    "\n",
    "Let's import the library by running the cell below."
   ]
  },
  {
   "cell_type": "code",
   "execution_count": 18,
   "id": "5b2ec28e-3518-48d0-8b57-bc0c8f01f529",
   "metadata": {
    "tags": []
   },
   "outputs": [],
   "source": [
    "import numpy as np"
   ]
  },
  {
   "cell_type": "markdown",
   "id": "a348fdc9-0f7d-4932-849c-d838ca84dd0a",
   "metadata": {},
   "source": [
    "Let's make an array of numbers from 0.1 to 1.0 including the endpoints."
   ]
  },
  {
   "cell_type": "code",
   "execution_count": 19,
   "id": "d76f41fc-f728-4054-8150-305ccce37c69",
   "metadata": {
    "tags": []
   },
   "outputs": [
    {
     "data": {
      "text/plain": [
       "array([0.1, 0.2, 0.3, 0.4, 0.5, 0.6, 0.7, 0.8, 0.9, 1. ])"
      ]
     },
     "execution_count": 19,
     "metadata": {},
     "output_type": "execute_result"
    }
   ],
   "source": [
    "np.arange(0.1, 1.1, 0.1)"
   ]
  },
  {
   "cell_type": "markdown",
   "id": "fabb1dd3-8a3d-4135-9a6c-808952f95431",
   "metadata": {},
   "source": [
    "To use the `arange` function from the `NumPy` library need to put the `np` alias in front of the function name. The syntax for the `np.arange` function is similar to the `range` function.\n",
    "\n",
    "```\n",
    "arange([start,] stop[, step,][, dtype])\n",
    "```\n",
    "\n",
    "* start : [optional] start of interval range. By default start=0\n",
    "\n",
    "* stop  : end of interval range\n",
    "\n",
    "* step  : [optional] step size of interval. By default step size=1.\n",
    "\n",
    "* dtype : type of output array"
   ]
  },
  {
   "cell_type": "markdown",
   "id": "11f15ae6-2fe9-429f-843d-8c7459683064",
   "metadata": {
    "tags": []
   },
   "source": [
    "**Question 4.** Use the `np.arange()` function to generate a list of the first 100 even integers. Save the list of numbers to `first100_even_integers`.\n",
    "\n",
    "**Hint:** Review the syntax of the `np.arange()` function. "
   ]
  },
  {
   "cell_type": "code",
   "execution_count": 20,
   "id": "2ea2a110-6a98-43b0-a17e-7d77892ce031",
   "metadata": {
    "tags": []
   },
   "outputs": [
    {
     "data": {
      "text/plain": [
       "array([  0,   2,   4,   6,   8,  10,  12,  14,  16,  18,  20,  22,  24,\n",
       "        26,  28,  30,  32,  34,  36,  38,  40,  42,  44,  46,  48,  50,\n",
       "        52,  54,  56,  58,  60,  62,  64,  66,  68,  70,  72,  74,  76,\n",
       "        78,  80,  82,  84,  86,  88,  90,  92,  94,  96,  98, 100, 102,\n",
       "       104, 106, 108, 110, 112, 114, 116, 118, 120, 122, 124, 126, 128,\n",
       "       130, 132, 134, 136, 138, 140, 142, 144, 146, 148, 150, 152, 154,\n",
       "       156, 158, 160, 162, 164, 166, 168, 170, 172, 174, 176, 178, 180,\n",
       "       182, 184, 186, 188, 190, 192, 194, 196, 198, 200])"
      ]
     },
     "execution_count": 20,
     "metadata": {},
     "output_type": "execute_result"
    }
   ],
   "source": [
    "first100_even_integers = np.arange(0, 201, 2)\n",
    "first100_even_integers"
   ]
  },
  {
   "cell_type": "markdown",
   "id": "3774111a-887a-4b17-a77b-72e73e59283a",
   "metadata": {},
   "source": [
    "Notice how the values get displayed when we run the code cell. \n",
    "\n",
    "Another great benefit of an array is the ability to do *element-wise* operations. Run the next three cells to see examples."
   ]
  },
  {
   "cell_type": "code",
   "execution_count": 21,
   "id": "c4ddf24c-a611-4ff8-805d-b733016aa493",
   "metadata": {},
   "outputs": [
    {
     "data": {
      "text/plain": [
       "array([0.01, 0.02, 0.03, 0.04, 0.05, 0.06, 0.07, 0.08, 0.09, 0.1 , 0.11,\n",
       "       0.12, 0.13, 0.14, 0.15, 0.16, 0.17, 0.18, 0.19, 0.2 , 0.21, 0.22,\n",
       "       0.23, 0.24, 0.25, 0.26, 0.27, 0.28, 0.29, 0.3 , 0.31, 0.32, 0.33,\n",
       "       0.34, 0.35, 0.36, 0.37, 0.38, 0.39, 0.4 , 0.41, 0.42, 0.43, 0.44,\n",
       "       0.45, 0.46, 0.47, 0.48, 0.49, 0.5 , 0.51, 0.52, 0.53, 0.54, 0.55,\n",
       "       0.56, 0.57, 0.58, 0.59, 0.6 , 0.61, 0.62, 0.63, 0.64, 0.65, 0.66,\n",
       "       0.67, 0.68, 0.69, 0.7 , 0.71, 0.72, 0.73, 0.74, 0.75, 0.76, 0.77,\n",
       "       0.78, 0.79, 0.8 , 0.81, 0.82, 0.83, 0.84, 0.85, 0.86, 0.87, 0.88,\n",
       "       0.89, 0.9 , 0.91, 0.92, 0.93, 0.94, 0.95, 0.96, 0.97, 0.98, 0.99,\n",
       "       1.  , 1.01, 1.02, 1.03, 1.04, 1.05, 1.06, 1.07, 1.08, 1.09, 1.1 ,\n",
       "       1.11, 1.12, 1.13, 1.14, 1.15, 1.16, 1.17, 1.18, 1.19, 1.2 , 1.21,\n",
       "       1.22, 1.23, 1.24, 1.25, 1.26, 1.27, 1.28, 1.29, 1.3 , 1.31, 1.32,\n",
       "       1.33, 1.34, 1.35, 1.36, 1.37, 1.38, 1.39, 1.4 , 1.41, 1.42, 1.43,\n",
       "       1.44, 1.45, 1.46, 1.47, 1.48, 1.49, 1.5 , 1.51, 1.52, 1.53, 1.54,\n",
       "       1.55, 1.56, 1.57, 1.58, 1.59, 1.6 , 1.61, 1.62, 1.63, 1.64, 1.65,\n",
       "       1.66, 1.67, 1.68, 1.69, 1.7 , 1.71, 1.72, 1.73, 1.74, 1.75, 1.76,\n",
       "       1.77, 1.78, 1.79, 1.8 , 1.81, 1.82, 1.83, 1.84, 1.85, 1.86, 1.87,\n",
       "       1.88, 1.89, 1.9 , 1.91, 1.92, 1.93, 1.94, 1.95, 1.96, 1.97, 1.98,\n",
       "       1.99, 2.  ])"
      ]
     },
     "execution_count": 21,
     "metadata": {},
     "output_type": "execute_result"
    }
   ],
   "source": [
    "# Create an array of numbers from 0 to 200\n",
    "numbers = np.arange(1, 201)\n",
    "\n",
    "# Divide each element by 100\n",
    "numbers/100"
   ]
  },
  {
   "cell_type": "code",
   "execution_count": 22,
   "id": "009b22b5-cc45-4b8a-924c-745a433ed5bd",
   "metadata": {},
   "outputs": [
    {
     "data": {
      "text/plain": [
       "array([0.        , 0.30103   , 0.47712125, 0.60205999, 0.69897   ,\n",
       "       0.77815125, 0.84509804, 0.90308999, 0.95424251, 1.        ,\n",
       "       1.04139269, 1.07918125, 1.11394335, 1.14612804, 1.17609126,\n",
       "       1.20411998, 1.23044892, 1.25527251, 1.2787536 , 1.30103   ,\n",
       "       1.32221929, 1.34242268, 1.36172784, 1.38021124, 1.39794001,\n",
       "       1.41497335, 1.43136376, 1.44715803, 1.462398  , 1.47712125,\n",
       "       1.49136169, 1.50514998, 1.51851394, 1.53147892, 1.54406804,\n",
       "       1.5563025 , 1.56820172, 1.5797836 , 1.59106461, 1.60205999,\n",
       "       1.61278386, 1.62324929, 1.63346846, 1.64345268, 1.65321251,\n",
       "       1.66275783, 1.67209786, 1.68124124, 1.69019608, 1.69897   ,\n",
       "       1.70757018, 1.71600334, 1.72427587, 1.73239376, 1.74036269,\n",
       "       1.74818803, 1.75587486, 1.76342799, 1.77085201, 1.77815125,\n",
       "       1.78532984, 1.79239169, 1.79934055, 1.80617997, 1.81291336,\n",
       "       1.81954394, 1.8260748 , 1.83250891, 1.83884909, 1.84509804,\n",
       "       1.85125835, 1.8573325 , 1.86332286, 1.86923172, 1.87506126,\n",
       "       1.88081359, 1.88649073, 1.8920946 , 1.89762709, 1.90308999,\n",
       "       1.90848502, 1.91381385, 1.91907809, 1.92427929, 1.92941893,\n",
       "       1.93449845, 1.93951925, 1.94448267, 1.94939001, 1.95424251,\n",
       "       1.95904139, 1.96378783, 1.96848295, 1.97312785, 1.97772361,\n",
       "       1.98227123, 1.98677173, 1.99122608, 1.99563519, 2.        ,\n",
       "       2.00432137, 2.00860017, 2.01283722, 2.01703334, 2.0211893 ,\n",
       "       2.02530587, 2.02938378, 2.03342376, 2.0374265 , 2.04139269,\n",
       "       2.04532298, 2.04921802, 2.05307844, 2.05690485, 2.06069784,\n",
       "       2.06445799, 2.06818586, 2.07188201, 2.07554696, 2.07918125,\n",
       "       2.08278537, 2.08635983, 2.08990511, 2.09342169, 2.09691001,\n",
       "       2.10037055, 2.10380372, 2.10720997, 2.11058971, 2.11394335,\n",
       "       2.1172713 , 2.12057393, 2.12385164, 2.1271048 , 2.13033377,\n",
       "       2.13353891, 2.13672057, 2.13987909, 2.1430148 , 2.14612804,\n",
       "       2.14921911, 2.15228834, 2.15533604, 2.15836249, 2.161368  ,\n",
       "       2.16435286, 2.16731733, 2.17026172, 2.17318627, 2.17609126,\n",
       "       2.17897695, 2.18184359, 2.18469143, 2.18752072, 2.1903317 ,\n",
       "       2.1931246 , 2.19589965, 2.19865709, 2.20139712, 2.20411998,\n",
       "       2.20682588, 2.20951501, 2.2121876 , 2.21484385, 2.21748394,\n",
       "       2.22010809, 2.22271647, 2.22530928, 2.2278867 , 2.23044892,\n",
       "       2.23299611, 2.23552845, 2.2380461 , 2.24054925, 2.24303805,\n",
       "       2.24551267, 2.24797327, 2.25042   , 2.25285303, 2.25527251,\n",
       "       2.25767857, 2.26007139, 2.26245109, 2.26481782, 2.26717173,\n",
       "       2.26951294, 2.27184161, 2.27415785, 2.2764618 , 2.2787536 ,\n",
       "       2.28103337, 2.28330123, 2.28555731, 2.28780173, 2.29003461,\n",
       "       2.29225607, 2.29446623, 2.29666519, 2.29885308, 2.30103   ])"
      ]
     },
     "execution_count": 22,
     "metadata": {},
     "output_type": "execute_result"
    }
   ],
   "source": [
    "# Take the log base 10 of each element\n",
    "np.log10(numbers)"
   ]
  },
  {
   "cell_type": "code",
   "execution_count": 23,
   "id": "8d45a096-b036-4a6f-9562-17a0b0ba6a09",
   "metadata": {
    "tags": []
   },
   "outputs": [
    {
     "data": {
      "text/plain": [
       "array([ 1.        ,  1.41421356,  1.73205081,  2.        ,  2.23606798,\n",
       "        2.44948974,  2.64575131,  2.82842712,  3.        ,  3.16227766,\n",
       "        3.31662479,  3.46410162,  3.60555128,  3.74165739,  3.87298335,\n",
       "        4.        ,  4.12310563,  4.24264069,  4.35889894,  4.47213595,\n",
       "        4.58257569,  4.69041576,  4.79583152,  4.89897949,  5.        ,\n",
       "        5.09901951,  5.19615242,  5.29150262,  5.38516481,  5.47722558,\n",
       "        5.56776436,  5.65685425,  5.74456265,  5.83095189,  5.91607978,\n",
       "        6.        ,  6.08276253,  6.164414  ,  6.244998  ,  6.32455532,\n",
       "        6.40312424,  6.4807407 ,  6.55743852,  6.63324958,  6.70820393,\n",
       "        6.78232998,  6.8556546 ,  6.92820323,  7.        ,  7.07106781,\n",
       "        7.14142843,  7.21110255,  7.28010989,  7.34846923,  7.41619849,\n",
       "        7.48331477,  7.54983444,  7.61577311,  7.68114575,  7.74596669,\n",
       "        7.81024968,  7.87400787,  7.93725393,  8.        ,  8.06225775,\n",
       "        8.1240384 ,  8.18535277,  8.24621125,  8.30662386,  8.36660027,\n",
       "        8.42614977,  8.48528137,  8.54400375,  8.60232527,  8.66025404,\n",
       "        8.71779789,  8.77496439,  8.83176087,  8.88819442,  8.94427191,\n",
       "        9.        ,  9.05538514,  9.11043358,  9.16515139,  9.21954446,\n",
       "        9.2736185 ,  9.32737905,  9.38083152,  9.43398113,  9.48683298,\n",
       "        9.53939201,  9.59166305,  9.64365076,  9.69535971,  9.74679434,\n",
       "        9.79795897,  9.8488578 ,  9.89949494,  9.94987437, 10.        ,\n",
       "       10.04987562, 10.09950494, 10.14889157, 10.19803903, 10.24695077,\n",
       "       10.29563014, 10.34408043, 10.39230485, 10.44030651, 10.48808848,\n",
       "       10.53565375, 10.58300524, 10.63014581, 10.67707825, 10.72380529,\n",
       "       10.77032961, 10.81665383, 10.86278049, 10.90871211, 10.95445115,\n",
       "       11.        , 11.04536102, 11.09053651, 11.13552873, 11.18033989,\n",
       "       11.22497216, 11.26942767, 11.3137085 , 11.35781669, 11.40175425,\n",
       "       11.44552314, 11.48912529, 11.53256259, 11.5758369 , 11.61895004,\n",
       "       11.66190379, 11.70469991, 11.74734012, 11.78982612, 11.83215957,\n",
       "       11.87434209, 11.91637529, 11.95826074, 12.        , 12.04159458,\n",
       "       12.08304597, 12.12435565, 12.16552506, 12.20655562, 12.24744871,\n",
       "       12.28820573, 12.32882801, 12.36931688, 12.40967365, 12.4498996 ,\n",
       "       12.489996  , 12.52996409, 12.56980509, 12.60952021, 12.64911064,\n",
       "       12.68857754, 12.72792206, 12.76714533, 12.80624847, 12.84523258,\n",
       "       12.88409873, 12.92284798, 12.9614814 , 13.        , 13.03840481,\n",
       "       13.07669683, 13.11487705, 13.15294644, 13.19090596, 13.22875656,\n",
       "       13.26649916, 13.3041347 , 13.34166406, 13.37908816, 13.41640786,\n",
       "       13.45362405, 13.49073756, 13.52774926, 13.56465997, 13.60147051,\n",
       "       13.6381817 , 13.67479433, 13.7113092 , 13.74772708, 13.78404875,\n",
       "       13.82027496, 13.85640646, 13.89244399, 13.92838828, 13.96424004,\n",
       "       14.        , 14.03566885, 14.07124728, 14.10673598, 14.14213562])"
      ]
     },
     "execution_count": 23,
     "metadata": {},
     "output_type": "execute_result"
    }
   ],
   "source": [
    "# Take the square root of each element\n",
    "numbers**(1/2)"
   ]
  },
  {
   "cell_type": "markdown",
   "id": "d9a95c2a-4e1c-461e-ab1d-bf9bb4b78d37",
   "metadata": {},
   "source": [
    "**Question 5.**  Use `np.arange` and the exponentiation operator `**` to compute the first 30 powers of 2, **starting from $2^0$**. Save this to `powers_of_2`.\n",
    "\n",
    "**Hint:** Part of your solution will involve `np.arange`, but your array shouldn't have more than 30 elements.\n",
    "\n",
    "**Warning:** `np.arange(1, 2**30, 1)` creates an array with $2^{30}$ elements and **will crash your kernel** and you will need to start over. "
   ]
  },
  {
   "cell_type": "code",
   "execution_count": 24,
   "id": "0a6fae63-bf61-4fef-8f7a-94551819df8f",
   "metadata": {
    "tags": []
   },
   "outputs": [
    {
     "data": {
      "text/plain": [
       "array([2.71828183e+00, 2.00855369e+01, 1.48413159e+02, 1.09663316e+03,\n",
       "       8.10308393e+03, 5.98741417e+04, 4.42413392e+05, 3.26901737e+06,\n",
       "       2.41549528e+07, 1.78482301e+08, 1.31881573e+09, 9.74480345e+09,\n",
       "       7.20048993e+10, 5.32048241e+11, 3.93133430e+12, 2.90488497e+13,\n",
       "       2.14643580e+14, 1.58601345e+15, 1.17191424e+16, 8.65934004e+16,\n",
       "       6.39843494e+17, 4.72783947e+18, 3.49342711e+19, 2.58131289e+20,\n",
       "       1.90734657e+21, 1.40934908e+22, 1.04137594e+23, 7.69478527e+23,\n",
       "       5.68572000e+24, 4.20121040e+25, 3.10429794e+26, 2.29378316e+27,\n",
       "       1.69488924e+28, 1.25236317e+29, 9.25378173e+29, 6.83767123e+30,\n",
       "       5.05239363e+31, 3.73324200e+32, 2.75851345e+33, 2.03828107e+34,\n",
       "       1.50609731e+35, 1.11286375e+36, 8.22301271e+36, 6.07603023e+37,\n",
       "       4.48961282e+38, 3.31740010e+39, 2.45124554e+40, 1.81123908e+41,\n",
       "       1.33833472e+42, 9.88903032e+42, 7.30705998e+43, 5.39922761e+44,\n",
       "       3.98951957e+45, 2.94787839e+46, 2.17820388e+47, 1.60948707e+48,\n",
       "       1.18925902e+49, 8.78750164e+49, 6.49313426e+50, 4.79781333e+51,\n",
       "       3.54513118e+52, 2.61951732e+53, 1.93557604e+54, 1.43020800e+55,\n",
       "       1.05678871e+56, 7.80867107e+56, 5.76987086e+57, 4.26338995e+58,\n",
       "       3.15024275e+59, 2.32773204e+60, 1.71997426e+61, 1.27089863e+62,\n",
       "       9.39074129e+62, 6.93887142e+63, 5.12717102e+64, 3.78849543e+65,\n",
       "       2.79934052e+66, 2.06844842e+67, 1.52838814e+68, 1.12933457e+69,\n",
       "       8.34471649e+69, 6.16595783e+70, 4.55606083e+71, 3.36649891e+72,\n",
       "       2.48752493e+73, 1.83804612e+74, 1.35814259e+75, 1.00353918e+76,\n",
       "       7.41520730e+76, 5.47913827e+77, 4.04856601e+78, 2.99150814e+79,\n",
       "       2.21044214e+80, 1.63330810e+81, 1.20686052e+82, 8.91756007e+82,\n",
       "       6.58923516e+83, 4.86882283e+84, 3.59760050e+85, 2.65828719e+86])"
      ]
     },
     "execution_count": 24,
     "metadata": {},
     "output_type": "execute_result"
    }
   ],
   "source": [
    "numbers = np.arange(1,201,2)\n",
    "powers_of_2 = np.exp(numbers)\n",
    "powers_of_2"
   ]
  },
  {
   "cell_type": "markdown",
   "id": "71aa45ed-2c0d-44cf-bfc2-6899803e9f4b",
   "metadata": {
    "tags": []
   },
   "source": [
    "## 4. Plotting Graphs\n",
    "\n",
    "### Matplotlib\n",
    "\n",
    "I encourage you to take time to go through the `pyplot` tutorial. You can find it [here](https://matplotlib.org/stable/tutorials/introductory/pyplot.html) - it shows some examples that are worth looking at. We've already imported the `matplotlib` library earlier in the notebook.\n",
    "\n",
    "```\n",
    "import matplotlib.pyplot as plt\n",
    "plt.style.use(\"fivethirtyeight\")\n",
    "%matplotlib inline\n",
    "```\n",
    "\n",
    "**Note:** The tutorial uses `np.arange`, which returns an array that steps from $a$ to $b$ with a fixed step size $s$. While this is fine in some cases, we sometimes prefer to use `np.linspace(a, b, N)`, which divides the interval $[a, b]$ into $N$ equally spaced points.\n",
    "\n",
    "For example, `np.linspace` always includes both end points while `np.arange` will not include the second end point $b$. For this reason, when we are plotting ranges of values we tend to prefer `np.linspace`.\n",
    "\n",
    "Notice how the following two statements have different parameters but return the same result."
   ]
  },
  {
   "cell_type": "code",
   "execution_count": 25,
   "id": "0e8a2a4b-dfff-44d1-b394-35432b66e8e4",
   "metadata": {},
   "outputs": [
    {
     "data": {
      "text/plain": [
       "array([-5., -4., -3., -2., -1.,  0.,  1.,  2.,  3.,  4.,  5.])"
      ]
     },
     "execution_count": 25,
     "metadata": {},
     "output_type": "execute_result"
    }
   ],
   "source": [
    "np.arange(-5, 6, 1.0)"
   ]
  },
  {
   "cell_type": "code",
   "execution_count": 26,
   "id": "fb274906-1332-4bf7-969a-b1139dae62f0",
   "metadata": {},
   "outputs": [
    {
     "data": {
      "text/plain": [
       "array([-5., -4., -3., -2., -1.,  0.,  1.,  2.,  3.,  4.,  5.])"
      ]
     },
     "execution_count": 26,
     "metadata": {},
     "output_type": "execute_result"
    }
   ],
   "source": [
    "np.linspace(-5, 5, 11)"
   ]
  },
  {
   "cell_type": "markdown",
   "id": "e635335b-12e2-4427-b9d5-6a1634f972bf",
   "metadata": {},
   "source": [
    "<!-- BEGIN QUESTION -->\n",
    "\n",
    "**Question 6.** Let's visualize the function $f(t) = 3\\sin(2\\pi t)$.\n",
    "\n",
    "- Set the $x$ limit of all figures to $[0, \\pi]$ and the $y$ limit to $[-10, 10]$. \n",
    "\n",
    "- Plot the sine function using `plt.plot` with 30 red plus signs. \n",
    "\n",
    "- Make sure the $x$ ticks are labeled $\\left[0, \\frac{\\pi}{2}, \\pi\\right]$, and that your axes are labeled as well. \n",
    "\n",
    "\n",
    "**Documentation:** Click [here](https://matplotlib.org/2.0.2/api/pyplot_api.html) to use the `matplotlib` documentation for reference.\n",
    "\n",
    "**Hints:** \n",
    "\n",
    "* You can set axis bounds with `plt.axis`.\n",
    "\n",
    "* You can set `xticks` and labels with `plt.xticks`.\n",
    "\n",
    "* Make sure you add `plt.xlabel`, `plt.ylabel`, and `plt.title`."
   ]
  },
  {
   "cell_type": "code",
   "execution_count": 49,
   "id": "31b283c7-eac5-4867-a9c1-0205aa5e0519",
   "metadata": {
    "tags": []
   },
   "outputs": [
    {
     "data": {
      "image/png": "[encoded data removed]",
      "text/plain": [
       "<Figure size 640x480 with 1 Axes>"
      ]
     },
     "metadata": {},
     "output_type": "display_data"
    }
   ],
   "source": [
    "t = np.linspace(0, math.pi, num=30)\n",
    "y = 3*(np.sin(2*math.pi*t))\n",
    "plt.xlim((0, math.pi))\n",
    "plt.ylim((-10, 10))\n",
    "\n",
    "plt.scatter(t, y, marker = '+', c = 'red', linewidth=1)\n",
    "plt.xticks([0, (math.pi)/2, math.pi],[r'$0$', r'$\\pi/2$', r'$\\pi$'])\n",
    "plt.xlabel('t')\n",
    "plt.ylabel('f(t)')\n",
    "plt.title('f(t) = 3sin(2$\\pi$t)');"
   ]
  },
  {
   "cell_type": "markdown",
   "id": "cd438d14-11e7-4912-9777-1df0d6c87614",
   "metadata": {
    "tags": []
   },
   "source": [
    "## 5. Taylor Polynomials\n",
    "\n",
    "**Taylor’s Formula:** If $f(x)$ has derivatives of all orders in a n open interval $I$ containing $a$, then for each positive integer $n$ and for each \n",
    "$x \\in I$, $$f(x) = f(a)+f'(a)(x-a)+ \\frac{f''(a)}{2!}(x-a)^2 + \\cdots + \\frac{f^{(n)}(a)}{n!}(x-a)^n+R_n(x),$$ where $$R_n(x)=\\frac{f^{(n+1)}(c)}{(n+1)!}(x-a)^{(n+1)}$$ for some $c$ between $a$ and $x$.\n",
    "\n",
    "The function $R_n(x)$ is called the remainder of order $n$ or the error term for the approximation of $f(x)$ by $P_n(x)$ over $I$."
   ]
  },
  {
   "cell_type": "markdown",
   "id": "4d28bba1-5bea-4013-b6ad-59c0ac920479",
   "metadata": {},
   "source": [
    "**Question 7.** Use a `for` loop to use a Taylor Polynomial to approximate $e^{0.9}$. Use a degree-8 polynomial centered at $x=0$. Write your code so that it outputs the polynomial approximation, the \"actual\" value (according to Python), and the error."
   ]
  },
  {
   "cell_type": "code",
   "execution_count": 56,
   "id": "6728bd7a-d07e-4f85-bd2f-4d153d7710ae",
   "metadata": {},
   "outputs": [
    {
     "name": "stdout",
     "output_type": "stream",
     "text": [
      "2.4596019389486607\n",
      "2.4596031111569494\n",
      "1.1722082886578278e-06\n"
     ]
    }
   ],
   "source": [
    "tp_sum = 0\n",
    "for i in range (0,9,1):\n",
    "    tp_sum = tp_sum + (0.9)**i/math.factorial(i)\n",
    "print(tp_sum)\n",
    "print(math.e**0.9)\n",
    "print(abs(tp_sum - math.e**0.9))"
   ]
  },
  {
   "cell_type": "markdown",
   "id": "0d5e3b1d-6fd6-4785-90cd-94229599764a",
   "metadata": {},
   "source": [
    "**Question 8.** Remember the error term for the Taylor Polynomial for $e^x$ is $\\frac{e^c x^n}{n!}$. Since $e^{0.9}$ is clearly no more than 3, assume $e^c<3$ (similar to how we assumed $cos(c)<1$). Write a for loop that outputs the error bound for values of $n$ from 0 to 10."
   ]
  },
  {
   "cell_type": "markdown",
   "id": "2f3e57f2-f06c-4838-9643-da919e725818",
   "metadata": {
    "editable": false,
    "tags": []
   },
   "source": [
    "---\n",
    "\n",
    "To double-check your work, the cell below will rerun all of the autograder tests."
   ]
  },
  {
   "cell_type": "code",
   "execution_count": 61,
   "id": "abeb99be-255c-4032-be42-20bb68a6b1fe",
   "metadata": {},
   "outputs": [
    {
     "name": "stdout",
     "output_type": "stream",
     "text": [
      "2.7\n",
      "1.215\n",
      "0.36450000000000005\n",
      "0.0820125\n",
      "0.014762250000000003\n",
      "0.0022143375000000004\n",
      "0.00028470053571428574\n",
      "3.202881026785715e-05\n",
      "3.202881026785715e-06\n",
      "2.882592924107144e-07\n",
      "2.3584851197240265e-08\n",
      "1.7688638397930202e-09\n",
      "1.224598042933629e-10\n",
      "7.872415990287617e-12\n",
      "4.72344959417257e-13\n",
      "2.6569403967220706e-14\n",
      "1.4066155041469789e-15\n",
      "7.033077520734893e-17\n",
      "3.331457772979687e-18\n",
      "1.499155997840859e-19\n",
      "6.4249542764608245e-21\n",
      "2.628390385824883e-22\n",
      "1.0285005857575627e-23\n",
      "3.856877196590861e-25\n",
      "1.38847579077271e-26\n",
      "4.806262352674765e-28\n",
      "1.6020874508915884e-29\n",
      "5.1495668064372485e-31\n",
      "1.598141422687422e-32\n",
      "4.794424268062267e-34\n",
      "1.3919296262116258e-35\n",
      "3.9148020737201974e-37\n",
      "1.0676732928327812e-38\n",
      "2.8261940104397148e-40\n",
      "7.267356026844982e-42\n",
      "1.816839006711245e-43\n",
      "4.419338124432759e-45\n",
      "1.0466853452603904e-46\n",
      "2.4154277198316702e-48\n",
      "5.434712369621259e-50\n",
      "1.1929856421119834e-51\n",
      "2.556397804525679e-53\n",
      "5.35060005598398e-55\n",
      "1.0944409205421775e-56\n",
      "2.188881841084356e-58\n",
      "4.2825949064693915e-60\n",
      "8.200713650686067e-62\n",
      "1.5376338095036376e-63\n",
      "2.824225364394437e-65\n",
      "5.083605655909987e-67\n",
      "8.971068804547036e-69\n",
      "1.5526849854023716e-70\n",
      "2.6366348808719516e-72\n",
      "4.394391468119919e-74\n",
      "7.190822402378048e-76\n",
      "1.1556678860964725e-77\n",
      "1.824738767520746e-79\n",
      "2.831491190980468e-81\n",
      "4.319223850648171e-83\n",
      "6.478835775972259e-85\n",
      "9.558938030123e-87\n",
      "1.3875877785662424e-88\n",
      "1.982268255094632e-90\n",
      "2.7875647337268268e-92\n",
      "3.8597050159294507e-94\n",
      "5.26323411263107e-96\n",
      "7.070015972190991e-98\n",
      "9.357374080841018e-100\n",
      "1.2205270540227416e-101\n",
      "1.5692490694578103e-103\n",
      "1.9891889612845486e-105\n",
      "2.4864862016056858e-107\n",
      "3.065530933486462e-109\n",
      "3.72834843261867e-111\n",
      "4.474018119142404e-113\n",
      "5.298179351616006e-115\n",
      "6.192677164226499e-117\n",
      "7.145396727953654e-119\n",
      "8.140325386276315e-121\n",
      "9.157866059560852e-123\n",
      "1.0175406732845394e-124\n",
      "1.1168129340927868e-126\n",
      "1.2110019767271185e-128\n",
      "1.2975021179219127e-130\n",
      "1.3738257719173196e-132\n",
      "1.437724645029753e-134\n",
      "1.4873013569273307e-136\n",
      "1.5211036604938612e-138\n",
      "1.5381947128589607e-140\n",
      "1.5381947128589607e-142\n",
      "1.521291474256115e-144\n",
      "1.4882199204679387e-146\n",
      "1.4402128262592955e-148\n",
      "1.3789271740780488e-150\n",
      "1.3063520596528884e-152\n",
      "1.224705055924583e-154\n",
      "1.136324278692912e-156\n",
      "1.0435631130853273e-158\n",
      "9.486937391684795e-161\n"
     ]
    }
   ],
   "source": [
    "# Write your code for #8 in this cell\n",
    "for i in range(1,100,1):\n",
    "     remain = 3*(0.9)**i/math.factorial(i)\n",
    "     print(remain)"
   ]
  },
  {
   "cell_type": "markdown",
   "id": "a79ef13b-fe82-41cb-8dda-43a01c222519",
   "metadata": {
    "tags": []
   },
   "source": [
    "## 6. Submitting your work\n",
    "You're done with Lab 01! Submit your work by doing the following:\n",
    "\n",
    "* Save your notebook\n",
    "\n",
    "* Restart the kernel and run all cells.\n",
    "\n",
    "* Right-click the `lab01` file in the navigation pane, then click \"download.\"\n",
    "\n",
    "* Upload the file you just downloaded to the Lab 01 assignment to Gradescope for Grading."
   ]
  }
 ],
 "metadata": {
  "kernelspec": {
   "display_name": "Python 3 (ipykernel)",
   "language": "python",
   "name": "python3"
  },
  "language_info": {
   "codemirror_mode": {
    "name": "ipython",
    "version": 3
   },
   "file_extension": ".py",
   "mimetype": "text/x-python",
   "name": "python",
   "nbconvert_exporter": "python",
   "pygments_lexer": "ipython3",
   "version": "3.11.5"
  }
 },
 "nbformat": 4,
 "nbformat_minor": 5
}
